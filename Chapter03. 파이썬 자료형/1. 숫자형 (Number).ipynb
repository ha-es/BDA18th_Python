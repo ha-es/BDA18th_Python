{
 "cells": [
  {
   "cell_type": "markdown",
   "id": "c2d71c79",
   "metadata": {
    "id": "c2d71c79"
   },
   "source": [
    "# 1. 숫자형 (Number)\n",
    "\n",
    "파이썬에서 숫자형(Number) 데이터 타입은 **숫자 데이터를 표현**하기 위해 사용됩니다.\n",
    "\n",
    "주요 타입은 다음과 같습니다:\n",
    "\n",
    "- **정수 (int)**: 소수점 없는 숫자\n",
    "- **실수 (float)**: 소수점을 포함한 숫자"
   ]
  },
  {
   "cell_type": "markdown",
   "id": "04402167",
   "metadata": {
    "id": "04402167"
   },
   "source": [
    "## (1) 정수형 (Integer, `int`)\n",
    "\n",
    "정수형은 소수점이 없는 숫자를 저장합니다. 양수, 음수, 0 모두 가능합니다.\n",
    "\n",
    "**특징**\n",
    "\n",
    "- 크기의 제한 없음 (메모리가 허용하는 한 큰 수 표현 가능)\n",
    "- 일반적인 수학 연산 가능\n",
    "\n",
    "**예제**"
   ]
  },
  {
   "cell_type": "code",
   "execution_count": 1,
   "id": "4581e5c2",
   "metadata": {
    "colab": {
     "base_uri": "https://localhost:8080/"
    },
    "executionInfo": {
     "elapsed": 1112,
     "status": "ok",
     "timestamp": 1737680131459,
     "user": {
      "displayName": "Kim InSeop",
      "userId": "13965062148001194946"
     },
     "user_tz": -540
    },
    "id": "4581e5c2",
    "outputId": "8673f183-3ef1-4d86-b693-5f81413c1ec4"
   },
   "outputs": [
    {
     "name": "stdout",
     "output_type": "stream",
     "text": [
      "<class 'int'>\n",
      "5\n",
      "20\n"
     ]
    }
   ],
   "source": [
    "# 정수 값\n",
    "a = 10\n",
    "b = -5\n",
    "\n",
    "# 타입 확인\n",
    "print(type(a))  # <class 'int'>\n",
    "\n",
    "# 연산\n",
    "print(a + b)  # 5\n",
    "print(a * 2)  # 20\n",
    "\n",
    "# Shift + Enter"
   ]
  },
  {
   "cell_type": "markdown",
   "id": "ba5ac03d",
   "metadata": {
    "id": "ba5ac03d"
   },
   "source": [
    "## (2) 실수형 (Float)\n",
    "\n",
    "실수형은 소수점을 포함한 숫자를 표현합니다.\n",
    "\n",
    "**특징**\n",
    "\n",
    "- 소수점 아래를 표현\n",
    "- 정수와의 연산도 지원\n",
    "\n",
    "**예제**"
   ]
  },
  {
   "cell_type": "code",
   "execution_count": 2,
   "id": "55c29e80",
   "metadata": {
    "colab": {
     "base_uri": "https://localhost:8080/"
    },
    "executionInfo": {
     "elapsed": 575,
     "status": "ok",
     "timestamp": 1737680155555,
     "user": {
      "displayName": "Kim InSeop",
      "userId": "13965062148001194946"
     },
     "user_tz": -540
    },
    "id": "55c29e80",
    "outputId": "a891f4c5-e8bb-4061-ad65-9429afa3390b"
   },
   "outputs": [
    {
     "name": "stdout",
     "output_type": "stream",
     "text": [
      "<class 'float'>\n",
      "2.1500000000000004\n"
     ]
    }
   ],
   "source": [
    "# 실수 값\n",
    "x = 3.14\n",
    "y = -0.99\n",
    "\n",
    "# 타입 확인\n",
    "print(type(x))  # <class 'float'>\n",
    "\n",
    "# 연산\n",
    "result = x + y\n",
    "print(result)  # 2.15"
   ]
  },
  {
   "cell_type": "markdown",
   "id": "6d1f95d2",
   "metadata": {
    "id": "6d1f95d2"
   },
   "source": [
    "**활용**"
   ]
  },
  {
   "cell_type": "code",
   "execution_count": null,
   "id": "41fdbe19",
   "metadata": {
    "id": "41fdbe19"
   },
   "outputs": [],
   "source": [
    "# 나누기 연산 결과\n",
    "a = 10\n",
    "b = 4\n",
    "print(a / b)  # 2.5 (결과는 항상 실수)\n",
    "\n",
    "# 반올림\n",
    "rounded = round(3.14159, 2)  # 소수점 둘째 자리까지 반올림\n",
    "print(rounded)  # 3.14"
   ]
  },
  {
   "cell_type": "markdown",
   "id": "c20c87e5",
   "metadata": {
    "id": "c20c87e5"
   },
   "source": [
    "## (3) 숫자형 간 변환\n",
    "\n",
    "숫자형 데이터 타입은 서로 변환 가능합니다.\n",
    "\n",
    "**예제**"
   ]
  },
  {
   "cell_type": "code",
   "execution_count": 3,
   "id": "0d3a8df2",
   "metadata": {
    "colab": {
     "base_uri": "https://localhost:8080/"
    },
    "executionInfo": {
     "elapsed": 911,
     "status": "ok",
     "timestamp": 1737680201186,
     "user": {
      "displayName": "Kim InSeop",
      "userId": "13965062148001194946"
     },
     "user_tz": -540
    },
    "id": "0d3a8df2",
    "outputId": "36a26399-fe0b-4590-a728-d0b85909d4c2"
   },
   "outputs": [
    {
     "name": "stdout",
     "output_type": "stream",
     "text": [
      "10.0\n"
     ]
    }
   ],
   "source": [
    "# 정수를 실수로 변환\n",
    "a = 10\n",
    "b = float(a)\n",
    "print(b)  # 10.0"
   ]
  },
  {
   "cell_type": "code",
   "execution_count": 4,
   "id": "ycK--xj6z5ZR",
   "metadata": {
    "colab": {
     "base_uri": "https://localhost:8080/"
    },
    "executionInfo": {
     "elapsed": 388,
     "status": "ok",
     "timestamp": 1737680206925,
     "user": {
      "displayName": "Kim InSeop",
      "userId": "13965062148001194946"
     },
     "user_tz": -540
    },
    "id": "ycK--xj6z5ZR",
    "outputId": "ff7c9601-859c-4f21-d7dd-bae5a65863b3"
   },
   "outputs": [
    {
     "name": "stdout",
     "output_type": "stream",
     "text": [
      "3\n"
     ]
    }
   ],
   "source": [
    "# 실수를 정수로 변환\n",
    "c = 3.14\n",
    "d = int(c)\n",
    "print(d)  # 3 (소수점 아래가 버려짐)"
   ]
  },
  {
   "cell_type": "markdown",
   "id": "010e62fb",
   "metadata": {
    "id": "010e62fb"
   },
   "source": [
    "## (4) 숫자형 연산\n",
    "\n",
    "파이썬은 다양한 연산자를 통해 숫자 데이터를 다룰 수 있습니다.\n",
    "\n",
    "| 연산자 | 설명 | 예시 | 결과 |\n",
    "| --- | --- | --- | --- |\n",
    "| `+` | 더하기 | `5 + 3` | `8` |\n",
    "| `-` | 빼기 | `5 - 3` | `2` |\n",
    "| `*` | 곱하기 | `5 * 3` | `15` |\n",
    "| `/` | 나누기 | `5 / 2` | `2.5` |\n",
    "| `//` | 몫 | `5 // 2` | `2` |\n",
    "| `%` | 나머지 | `5 % 2` | `1` |\n",
    "| `**` | 제곱 | `2 ** 3` | `8` |"
   ]
  },
  {
   "cell_type": "code",
   "execution_count": null,
   "id": "c2ce8782",
   "metadata": {
    "id": "c2ce8782"
   },
   "outputs": [],
   "source": [
    "# 기본 연산\n",
    "x = 10\n",
    "y = 3\n",
    "\n",
    "print(x + y)   # 13\n",
    "print(x - y)   # 7\n",
    "print(x * y)   # 30\n",
    "print(x / y)   # 3.333...\n",
    "\n",
    "# 몫과 나머지\n",
    "print(x // y)  # 3 (몫)\n",
    "print(x % y)   # 1 (나머지)\n",
    "\n",
    "# 제곱\n",
    "print(2 ** 3)  # 8"
   ]
  },
  {
   "cell_type": "markdown",
   "id": "45fec09b",
   "metadata": {
    "id": "45fec09b"
   },
   "source": [
    "## [실습]\n",
    "\n",
    "### **문제 1: 연산 연습**\n",
    "\n",
    "다음 코드를 실행하여 결과를 예측하세요."
   ]
  },
  {
   "cell_type": "code",
   "execution_count": 5,
   "id": "9d7864e2",
   "metadata": {
    "colab": {
     "base_uri": "https://localhost:8080/"
    },
    "executionInfo": {
     "elapsed": 561,
     "status": "ok",
     "timestamp": 1737680279960,
     "user": {
      "displayName": "Kim InSeop",
      "userId": "13965062148001194946"
     },
     "user_tz": -540
    },
    "id": "9d7864e2",
    "outputId": "dbf7b7cf-112e-4c81-8f13-3bc255ddcb51"
   },
   "outputs": [
    {
     "name": "stdout",
     "output_type": "stream",
     "text": [
      "9\n",
      "3.5\n",
      "3\n",
      "1\n"
     ]
    }
   ],
   "source": [
    "a = 7\n",
    "b = 2\n",
    "\n",
    "print(a + b)\n",
    "print(a / b)\n",
    "print(a // b)\n",
    "print(a % b)"
   ]
  },
  {
   "cell_type": "markdown",
   "id": "542227b9",
   "metadata": {
    "id": "542227b9"
   },
   "source": [
    "### **문제 2: 자료형 변환**\n",
    "\n",
    "다음 숫자형 변환의 결과를 예측하세요."
   ]
  },
  {
   "cell_type": "code",
   "execution_count": 1,
   "id": "0550e61f",
   "metadata": {
    "id": "0550e61f"
   },
   "outputs": [
    {
     "name": "stdout",
     "output_type": "stream",
     "text": [
      "5.0\n",
      "2\n"
     ]
    }
   ],
   "source": [
    "x = 5\n",
    "y = 2.7\n",
    "\n",
    "print(float(x))  # ?\n",
    "print(int(y))    # ?"
   ]
  },
  {
   "cell_type": "markdown",
   "id": "0235d49e",
   "metadata": {
    "id": "0235d49e"
   },
   "source": [
    "### **문제 3: 복잡한 연산**\n",
    "\n",
    "다음 연산의 결과를 출력하고, 결과의 자료형을 확인하세요:"
   ]
  },
  {
   "cell_type": "code",
   "execution_count": 2,
   "id": "193e2f25",
   "metadata": {
    "colab": {
     "base_uri": "https://localhost:8080/"
    },
    "executionInfo": {
     "elapsed": 350,
     "status": "ok",
     "timestamp": 1737680323453,
     "user": {
      "displayName": "Kim InSeop",
      "userId": "13965062148001194946"
     },
     "user_tz": -540
    },
    "id": "193e2f25",
    "outputId": "815fc5ab-86c9-4d14-8315-949b5ce47c55"
   },
   "outputs": [
    {
     "name": "stdout",
     "output_type": "stream",
     "text": [
      "27\n",
      "<class 'int'>\n"
     ]
    }
   ],
   "source": [
    "a = 5\n",
    "b = 2\n",
    "\n",
    "# 연산\n",
    "total = a ** b + (a % b) * (a // b)\n",
    "print(total)  # 결과 출력\n",
    "print(type(total))  # 결과의 자료형 확인"
   ]
  },
  {
   "cell_type": "markdown",
   "id": "7fddc0b5",
   "metadata": {
    "id": "7fddc0b5"
   },
   "source": [
    "### **문제 4: 정수와 실수의 연산**\n",
    "\n",
    "정수와 실수의 연산 결과를 확인하세요:"
   ]
  },
  {
   "cell_type": "code",
   "execution_count": 3,
   "id": "9a91e65e",
   "metadata": {
    "colab": {
     "base_uri": "https://localhost:8080/"
    },
    "executionInfo": {
     "elapsed": 393,
     "status": "ok",
     "timestamp": 1737680345635,
     "user": {
      "displayName": "Kim InSeop",
      "userId": "13965062148001194946"
     },
     "user_tz": -540
    },
    "id": "9a91e65e",
    "outputId": "83d64f50-b70d-4a08-b051-9170b9d3ea38"
   },
   "outputs": [
    {
     "name": "stdout",
     "output_type": "stream",
     "text": [
      "13.5\n",
      "<class 'float'>\n"
     ]
    }
   ],
   "source": [
    "x = 10\n",
    "y = 3.5\n",
    "\n",
    "result = x + y\n",
    "print(result)       # 결과\n",
    "print(type(result))  # 자료형"
   ]
  },
  {
   "cell_type": "markdown",
   "id": "51cba861",
   "metadata": {
    "id": "51cba861"
   },
   "source": [
    "### **문제 5: 연산자의 우선순위**\n",
    "\n",
    "다음 연산의 우선순위를 확인하고 결과를 예측하세요:"
   ]
  },
  {
   "cell_type": "code",
   "execution_count": 4,
   "id": "bb067b32",
   "metadata": {
    "colab": {
     "base_uri": "https://localhost:8080/"
    },
    "executionInfo": {
     "elapsed": 353,
     "status": "ok",
     "timestamp": 1737680370806,
     "user": {
      "displayName": "Kim InSeop",
      "userId": "13965062148001194946"
     },
     "user_tz": -540
    },
    "id": "bb067b32",
    "outputId": "b0be1035-2569-4166-c472-8ce13daeedd1"
   },
   "outputs": [
    {
     "name": "stdout",
     "output_type": "stream",
     "text": [
      "6\n"
     ]
    }
   ],
   "source": [
    "a = 2\n",
    "b = 3\n",
    "c = 4\n",
    "\n",
    "result = a + b * c - a ** b\n",
    "print(result)  # 우선순위에 따른 결과 확인"
   ]
  }
 ],
 "metadata": {
  "colab": {
   "collapsed_sections": [
    "04402167",
    "ba5ac03d",
    "c20c87e5",
    "010e62fb",
    "45fec09b"
   ],
   "provenance": []
  },
  "kernelspec": {
   "display_name": "Python 3",
   "language": "python",
   "name": "python3"
  },
  "language_info": {
   "codemirror_mode": {
    "name": "ipython",
    "version": 3
   },
   "file_extension": ".py",
   "mimetype": "text/x-python",
   "name": "python",
   "nbconvert_exporter": "python",
   "pygments_lexer": "ipython3",
   "version": "3.10.2"
  }
 },
 "nbformat": 4,
 "nbformat_minor": 5
}
