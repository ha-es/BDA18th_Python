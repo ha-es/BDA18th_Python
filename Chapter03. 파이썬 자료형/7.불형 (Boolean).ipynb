{
 "cells": [
  {
   "cell_type": "markdown",
   "id": "df559b23",
   "metadata": {},
   "source": [
    "# 7. 불형 (Boolean)\n",
    "\n",
    "참(`True`) 또는 거짓(`False`) 두 가지 값만 가질 수 있는 데이터 타입\n",
    "\n",
    "조건식, 논리 연산, 제어문 등에 사용되며 `True`와 `False`로 표현"
   ]
  },
  {
   "cell_type": "markdown",
   "id": "03af84e9",
   "metadata": {},
   "source": [
    "## (1) 불형의 주요 특징\n",
    "\n",
    "1. **True와 False**:\n",
    "    - 불형은 두 가지 값만 가질 수 있습니다: `True`, `False`.\n",
    "    - 대소문자 구분이 있으며, 반드시 첫 글자가 대문자여야 합니다.\n",
    "2. **숫자와의 관계**:\n",
    "    - `True`는 숫자 `1`과 같고, `False`는 숫자 `0`과 같습니다.\n",
    "3. **조건식에서 기본 값**:\n",
    "    - 대부분의 값은 참(`True`)으로 평가되며, 다음은 거짓(`False`)으로 평가됩니다:\n",
    "        - `None`\n",
    "        - `0`, `0.0`, `0j` (숫자 0 계열)\n",
    "        - `\"\"` (빈 문자열)\n",
    "        - `[]`, `()`, `{}` (빈 시퀀스)"
   ]
  },
  {
   "cell_type": "markdown",
   "id": "fa009803",
   "metadata": {},
   "source": [
    "## (2) 불형 값 생성 및 기본 사용법\n",
    "\n",
    "### **불형 값 생성**"
   ]
  },
  {
   "cell_type": "code",
   "execution_count": null,
   "id": "e98438da",
   "metadata": {},
   "outputs": [],
   "source": [
    "is_hungry = True\n",
    "is_tired = False\n",
    "\n",
    "print(is_hungry)  # True\n",
    "print(is_tired)   # False"
   ]
  },
  {
   "cell_type": "markdown",
   "id": "5ba26b79",
   "metadata": {},
   "source": [
    "### **숫자와 불형 비교**"
   ]
  },
  {
   "cell_type": "code",
   "execution_count": null,
   "id": "7765980c",
   "metadata": {},
   "outputs": [],
   "source": [
    "print(True == 1)   # True\n",
    "print(False == 0)  # True\n",
    "print(True + 1)    # 2 (1 + 1)\n",
    "print(False * 10)  # 0 (0 * 10)"
   ]
  },
  {
   "cell_type": "markdown",
   "id": "587839e9",
   "metadata": {},
   "source": [
    "## (3) 불형의 주요 연산 및 메서드\n",
    "\n",
    "### **1. 논리 연산자**"
   ]
  },
  {
   "cell_type": "code",
   "execution_count": null,
   "id": "9e17d005",
   "metadata": {},
   "outputs": [],
   "source": [
    "a = True\n",
    "b = False\n",
    "\n",
    "print(a and b)  # False\n",
    "print(a or b)   # True\n",
    "print(not a)    # False"
   ]
  },
  {
   "cell_type": "markdown",
   "id": "53835c02",
   "metadata": {},
   "source": [
    "### **2. 비교 연산자**\n",
    "\n",
    "- 불형은 비교 연산자의 결과로 생성됩니다.\n",
    "\n",
    "| 연산자 | 의미 | 예시 |\n",
    "| --- | --- | --- |\n",
    "| `==` | 같음 | `1 == 1` → `True` |\n",
    "| `!=` | 같지 않음 | `1 != 2` → `True` |\n",
    "| `<` | 작음 | `5 < 10` → `True` |\n",
    "| `>` | 큼 | `10 > 5` → `True` |\n",
    "| `<=` | 작거나 같음 | `3 <= 3` → `True` |\n",
    "| `>=` | 크거나 같음 | `4 >= 2` → `True` |"
   ]
  },
  {
   "cell_type": "code",
   "execution_count": null,
   "id": "06b63ab8",
   "metadata": {},
   "outputs": [],
   "source": [
    "x = 10\n",
    "y = 5\n",
    "\n",
    "print(x > y)   # True\n",
    "print(x == y)  # False\n",
    "print(x != y)  # True"
   ]
  },
  {
   "cell_type": "markdown",
   "id": "7aeb7842",
   "metadata": {},
   "source": [
    "### **3. 불형과 조건문**"
   ]
  },
  {
   "cell_type": "code",
   "execution_count": null,
   "id": "39f93343",
   "metadata": {},
   "outputs": [],
   "source": [
    "is_raining = True\n",
    "\n",
    "if is_raining:\n",
    "    print(\"Take an umbrella.\")  # 실행됨\n",
    "else:\n",
    "    print(\"No need for an umbrella.\")"
   ]
  },
  {
   "cell_type": "markdown",
   "id": "879da6d0",
   "metadata": {},
   "source": [
    "### **4. 불형으로 변환 (`bool()` 함수)**"
   ]
  },
  {
   "cell_type": "code",
   "execution_count": null,
   "id": "701e85ab",
   "metadata": {},
   "outputs": [],
   "source": [
    "# 참으로 평가되는 값\n",
    "print(bool(1))        # True\n",
    "print(bool(\"hello\"))  # True\n",
    "print(bool([1, 2]))   # True\n",
    "\n",
    "# 거짓으로 평가되는 값\n",
    "print(bool(0))        # False\n",
    "print(bool(\"\"))       # False\n",
    "print(bool([]))       # False"
   ]
  },
  {
   "cell_type": "markdown",
   "id": "f62748e0",
   "metadata": {},
   "source": [
    "### **5. 불형과 어울리는 유용한 함수**\n",
    "\n",
    "- **`any(iterable)`**: 하나라도 참이면 `True` 반환.\n",
    "- **`all(iterable)`**: 모두 참이면 `True` 반환."
   ]
  },
  {
   "cell_type": "code",
   "execution_count": null,
   "id": "5927ddf6",
   "metadata": {},
   "outputs": [],
   "source": [
    "# any 예제\n",
    "values = [0, 0, 1]\n",
    "print(any(values))  # True (1이 있어서 참)\n",
    "\n",
    "# all 예제\n",
    "values = [1, 2, 3]\n",
    "print(all(values))  # True (모두 참)\n",
    "\n",
    "values = [1, 0, 3]\n",
    "print(all(values))  # False (0이 있어서 거짓)"
   ]
  },
  {
   "cell_type": "markdown",
   "id": "cf3ee82d",
   "metadata": {},
   "source": [
    "## [실습]\n",
    "\n",
    "### **문제 1: 불형 값 생성**\n",
    "\n",
    "- 변수 `is_open`과 `is_closed`에 각각 `True`와 `False`를 저장하고 출력하세요."
   ]
  },
  {
   "cell_type": "code",
   "execution_count": 2,
   "id": "246601b4",
   "metadata": {},
   "outputs": [
    {
     "name": "stdout",
     "output_type": "stream",
     "text": [
      "True False\n"
     ]
    }
   ],
   "source": [
    "is_open = True\n",
    "is_closed = False\n",
    "\n",
    "print(is_open, is_closed)"
   ]
  },
  {
   "cell_type": "markdown",
   "id": "3bf9f6e8",
   "metadata": {},
   "source": [
    "### **문제 2: 논리 연산자 활용**\n",
    "\n",
    "변수 `a = True`와 `b = False`가 있을 때, 다음 연산의 결과를 출력하세요:\n",
    "\n",
    "1. `a and b`\n",
    "2. `a or b`\n",
    "3. `not a`"
   ]
  },
  {
   "cell_type": "code",
   "execution_count": 3,
   "id": "b7a73109",
   "metadata": {},
   "outputs": [
    {
     "name": "stdout",
     "output_type": "stream",
     "text": [
      "False\n",
      "True\n",
      "False\n"
     ]
    }
   ],
   "source": [
    "a = True\n",
    "b= False\n",
    "\n",
    "print(a and b)\n",
    "print(a or b)\n",
    "print(not a)"
   ]
  },
  {
   "cell_type": "markdown",
   "id": "3c7d36f0",
   "metadata": {},
   "source": [
    "### **문제 3: 비교 연산**\n",
    "\n",
    "- 두 변수 `x = 15`와 `y = 10`이 있을 때 다음 조건문의 결과를 예측하세요:"
   ]
  },
  {
   "cell_type": "code",
   "execution_count": 5,
   "id": "17a0b71f",
   "metadata": {},
   "outputs": [
    {
     "name": "stdout",
     "output_type": "stream",
     "text": [
      "False\n",
      "True\n",
      "False\n",
      "True\n"
     ]
    }
   ],
   "source": [
    "x = 15\n",
    "y = 10\n",
    "\n",
    "print( x == y )\n",
    "print( x != y)\n",
    "print( x<y)\n",
    "print( x> y)"
   ]
  },
  {
   "cell_type": "markdown",
   "id": "395f6abe",
   "metadata": {},
   "source": [
    "### **문제 4: `bool()` 함수 활용**\n",
    "\n",
    "- 다음 값들을 불형으로 변환하여 출력하세요:\n",
    "`0`, `1`, `[]`, `[\"data\"]`, `None`"
   ]
  },
  {
   "cell_type": "code",
   "execution_count": 9,
   "id": "fdbabf07",
   "metadata": {},
   "outputs": [
    {
     "name": "stdout",
     "output_type": "stream",
     "text": [
      "False\n",
      "True\n",
      "False\n",
      "True\n",
      "False\n"
     ]
    }
   ],
   "source": [
    "print(bool(0))\n",
    "print(bool(1))\n",
    "print(bool([]))\n",
    "print(bool([\"data\"]))\n",
    "print(bool(None))\n"
   ]
  },
  {
   "cell_type": "markdown",
   "id": "e314db1b",
   "metadata": {},
   "source": [
    "### **문제 5: `any()`와 `all()` 함수**\n",
    "\n",
    "- 리스트 `values = [0, 1, 2, 3]`에서 `any()`와 `all()` 함수의 결과를 예측하세요."
   ]
  },
  {
   "cell_type": "code",
   "execution_count": 10,
   "id": "ee5981f3",
   "metadata": {},
   "outputs": [
    {
     "name": "stdout",
     "output_type": "stream",
     "text": [
      "True\n",
      "False\n"
     ]
    }
   ],
   "source": [
    "values = [0, 1, 2, 3]\n",
    "\n",
    "print(any(values))\n",
    "print(all(values))"
   ]
  },
  {
   "cell_type": "code",
   "execution_count": null,
   "id": "aae86e88",
   "metadata": {},
   "outputs": [],
   "source": []
  }
 ],
 "metadata": {
  "kernelspec": {
   "display_name": "Python 3",
   "language": "python",
   "name": "python3"
  },
  "language_info": {
   "codemirror_mode": {
    "name": "ipython",
    "version": 3
   },
   "file_extension": ".py",
   "mimetype": "text/x-python",
   "name": "python",
   "nbconvert_exporter": "python",
   "pygments_lexer": "ipython3",
   "version": "3.10.2"
  }
 },
 "nbformat": 4,
 "nbformat_minor": 5
}
