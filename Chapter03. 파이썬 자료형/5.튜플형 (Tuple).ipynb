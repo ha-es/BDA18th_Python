{
 "cells": [
  {
   "cell_type": "markdown",
   "id": "cb086571",
   "metadata": {
    "id": "cb086571"
   },
   "source": [
    "# 5. 튜플형 (Tuple)\n",
    "\n",
    "**불변(Immutable)** 데이터 타입으로, **여러 값을 순서대로 저장**할 수 있는 자료 구조\n",
    "\n",
    "리스트형[ ]과 거의 비슷하고, () 괄호로 생성.\n",
    "\n",
    "리스트와 비슷하지만 생성 후 수정, 추가, 삭제가 불가능합니다.\n",
    "\n",
    "```python\n",
    "t = ()\n",
    "t = (\"a\", \"b\", \"c\", \"d\", \"e\")\n",
    "t = (\"Hello\", \"Python\")\n",
    "t = (1, 2, 3, (\"a\", \"b\"))\n",
    "```"
   ]
  },
  {
   "cell_type": "markdown",
   "id": "76b3ad54",
   "metadata": {
    "id": "76b3ad54"
   },
   "source": [
    "## (1) 튜플의 주요 특징\n",
    "\n",
    "1. **순서 유지 (Ordered)**:\n",
    "    - 튜플은 저장된 순서를 유지하며, 인덱스를 통해 각 요소에 접근할 수 있습니다.\n",
    "2. **불변 (Immutable)**:\n",
    "    - 튜플의 요소는 한 번 생성되면 변경할 수 없습니다.\n",
    "3. **중복 허용**:\n",
    "    - 동일한 값을 여러 번 포함할 수 있습니다.\n",
    "4. **다양한 자료형 저장 가능**:\n",
    "    - 숫자, 문자열, 리스트 등 다양한 자료형을 저장할 수 있습니다."
   ]
  },
  {
   "cell_type": "markdown",
   "id": "4b0ebf56",
   "metadata": {
    "id": "4b0ebf56"
   },
   "source": [
    "## (2) 튜플 생성 및 기본 사용법\n",
    "\n",
    "### **튜플 생성**"
   ]
  },
  {
   "cell_type": "code",
   "execution_count": null,
   "id": "cf6f7f8b",
   "metadata": {
    "id": "cf6f7f8b"
   },
   "outputs": [
    {
     "name": "stdout",
     "output_type": "stream",
     "text": [
      "('apple', 'banana', 'cherry')\n",
      "(1, 2, 3, 4, 5)\n",
      "(1, 'hello', 3.14, [2, 4, 6], {'key': 'value'})\n"
     ]
    },
    {
     "data": {
      "text/plain": [
       "<function print>"
      ]
     },
     "execution_count": 1,
     "metadata": {},
     "output_type": "execute_result"
    }
   ],
   "source": [
    "# 빈 튜플 생성\n",
    "empty_tuple = ()\n",
    "\n",
    "# 값이 있는 튜플 생성\n",
    "fruits = (\"apple\", \"banana\", \"cherry\")\n",
    "numbers = (1, 2, 3, 4, 5)\n",
    "mixed = (1, \"hello\", 3.14, [2, 4, 6], {\"key\":\"value\"})\n",
    "\n",
    "print(fruits)   # ('apple', 'banana', 'cherry')\n",
    "print(numbers)  # (1, 2, 3, 4, 5)\n",
    "print(mixed)    # (1, 'hello', 3.14, [2, 4, 6])"
   ]
  },
  {
   "cell_type": "markdown",
   "id": "011059f6",
   "metadata": {
    "id": "011059f6"
   },
   "source": [
    "### **튜플 인덱싱과 슬라이싱**"
   ]
  },
  {
   "cell_type": "code",
   "execution_count": null,
   "id": "0f39d7f4",
   "metadata": {
    "id": "0f39d7f4"
   },
   "outputs": [],
   "source": [
    "fruits = (\"apple\", \"banana\", \"cherry\", \"date\")\n",
    "\n",
    "# 인덱싱\n",
    "print(fruits[0])   # apple\n",
    "print(fruits[-1])  # date\n",
    "\n",
    "# 슬라이싱\n",
    "print(fruits[1:3])  # ('banana', 'cherry')\n",
    "print(fruits[:2])   # ('apple', 'banana')\n",
    "print(fruits[::-1]) # ('date', 'cherry', 'banana', 'apple')"
   ]
  },
  {
   "cell_type": "markdown",
   "id": "a351fdc6",
   "metadata": {
    "id": "a351fdc6"
   },
   "source": [
    "### **튜플은 불변**\n",
    "\n",
    "튜플은 불변이므로 수정, 추가, 삭제가 불가능합니다."
   ]
  },
  {
   "cell_type": "code",
   "execution_count": null,
   "id": "e827c5f0",
   "metadata": {
    "id": "e827c5f0"
   },
   "outputs": [],
   "source": [
    "fruits = (\"apple\", \"banana\", \"cherry\")\n",
    "# fruits[0] = \"orange\"  # TypeError: 'tuple' object does not support item assignment"
   ]
  },
  {
   "cell_type": "markdown",
   "id": "4c60717f",
   "metadata": {
    "id": "4c60717f"
   },
   "source": [
    "### **튜플 요소 반복**\n",
    "\n",
    "튜플의 요소를 순회하면서 작업할 수 있습니다."
   ]
  },
  {
   "cell_type": "code",
   "execution_count": null,
   "id": "37582dbc",
   "metadata": {
    "id": "37582dbc"
   },
   "outputs": [],
   "source": [
    "fruits = (\"apple\", \"banana\", \"cherry\")\n",
    "\n",
    "for fruit in fruits:\n",
    "    print(fruit)"
   ]
  },
  {
   "cell_type": "markdown",
   "id": "f4a9a981",
   "metadata": {
    "id": "f4a9a981"
   },
   "source": [
    "## (3) 튜플의 주요 메서드\n",
    "\n",
    "### **1. `count()`**\n",
    "\n",
    "- 특정 값이 튜플에 몇 번 등장하는지 반환합니다."
   ]
  },
  {
   "cell_type": "code",
   "execution_count": null,
   "id": "027e7ef7",
   "metadata": {
    "id": "027e7ef7"
   },
   "outputs": [],
   "source": [
    "numbers = (1, 2, 3, 2, 4, 2)\n",
    "print(numbers.count(2))  # 3"
   ]
  },
  {
   "cell_type": "markdown",
   "id": "061d3ff2",
   "metadata": {
    "id": "061d3ff2"
   },
   "source": [
    "### **2. `index()`**\n",
    "\n",
    "- 특정 값의 첫 번째 위치(인덱스)를 반환합니다."
   ]
  },
  {
   "cell_type": "code",
   "execution_count": null,
   "id": "660709b9",
   "metadata": {
    "id": "660709b9"
   },
   "outputs": [],
   "source": [
    "numbers = (1, 2, 3, 2, 4, 2)\n",
    "print(numbers.index(2))  # 1"
   ]
  },
  {
   "cell_type": "markdown",
   "id": "39a7da89",
   "metadata": {
    "id": "39a7da89"
   },
   "source": [
    "### **3. 튜플 언패킹 (unpacking)**\n",
    "\n",
    "튜플의 요소를 여러 변수에 할당할 수 있습니다."
   ]
  },
  {
   "cell_type": "code",
   "execution_count": null,
   "id": "9ccaf676",
   "metadata": {
    "id": "9ccaf676"
   },
   "outputs": [],
   "source": [
    "person = (\"Alice\", 25, \"New York\")\n",
    "name, age, city = person # (\"Alice\", 25, \"New York\")\n",
    "\n",
    "print(name)  # Alice\n",
    "print(age)   # 25\n",
    "print(city)  # New York"
   ]
  },
  {
   "cell_type": "markdown",
   "id": "13af702d",
   "metadata": {
    "id": "13af702d"
   },
   "source": [
    "### **4. 튜플 결합과 반복**\n",
    "\n",
    "튜플은 결합하거나 반복할 수 있습니다."
   ]
  },
  {
   "cell_type": "code",
   "execution_count": null,
   "id": "efc29d8c",
   "metadata": {
    "id": "efc29d8c"
   },
   "outputs": [],
   "source": [
    "# 튜플 결합\n",
    "tuple1 = (1, 2, 3)\n",
    "tuple2 = (4, 5, 6)\n",
    "combined = tuple1 + tuple2\n",
    "print(combined)  # (1, 2, 3, 4, 5, 6)\n",
    "\n",
    "# 튜플 반복\n",
    "repeated = tuple1 * 3\n",
    "print(repeated)  # (1, 2, 3, 1, 2, 3, 1, 2, 3)"
   ]
  },
  {
   "cell_type": "markdown",
   "id": "f26c38fd",
   "metadata": {
    "id": "f26c38fd"
   },
   "source": [
    "## [실습]\n",
    "\n",
    "### **문제 1: 튜플 생성 및 접근**\n",
    "\n",
    "다음 튜플에서 `\"cherry\"`와 `\"banana\"`를 출력하세요."
   ]
  },
  {
   "cell_type": "code",
   "execution_count": null,
   "id": "240e233a",
   "metadata": {
    "id": "240e233a"
   },
   "outputs": [],
   "source": []
  },
  {
   "cell_type": "markdown",
   "id": "1a4dd020",
   "metadata": {
    "id": "1a4dd020"
   },
   "source": [
    "## [실습]\n",
    "\n",
    "### **문제 1: 튜플 생성 및 접근**\n",
    "\n",
    "다음 튜플에서 `\"cherry\"`와 `\"banana\"`를 출력하세요."
   ]
  },
  {
   "cell_type": "code",
   "execution_count": null,
   "id": "f357cf63",
   "metadata": {
    "id": "f357cf63"
   },
   "outputs": [],
   "source": []
  },
  {
   "cell_type": "markdown",
   "id": "3b651c4d",
   "metadata": {
    "id": "3b651c4d"
   },
   "source": [
    "### **문제 2: 튜플 슬라이싱**\n",
    "\n",
    "튜플 `numbers = (1, 2, 3, 4, 5)`에서 다음을 수행하세요:\n",
    "\n",
    "1. 첫 번째부터 세 번째 요소까지 출력하세요.\n",
    "2. 튜플을 역순으로 출력하세요."
   ]
  },
  {
   "cell_type": "code",
   "execution_count": null,
   "id": "4ff31661",
   "metadata": {
    "id": "4ff31661"
   },
   "outputs": [],
   "source": []
  },
  {
   "cell_type": "markdown",
   "id": "740aee51",
   "metadata": {
    "id": "740aee51"
   },
   "source": [
    "### **문제 3: 튜플 언패킹**\n",
    "\n",
    "- 튜플 `person = (\"Alice\", 25, \"New York\")`에서 이름, 나이, 도시를 각각 변수에 저장하고 출력하세요."
   ]
  },
  {
   "cell_type": "code",
   "execution_count": null,
   "id": "ebc2038e",
   "metadata": {
    "id": "ebc2038e"
   },
   "outputs": [],
   "source": []
  },
  {
   "cell_type": "markdown",
   "id": "409ad2d3",
   "metadata": {
    "id": "409ad2d3"
   },
   "source": [
    "### **문제 4: 튜플 요소 개수**\n",
    "\n",
    "- 튜플 `numbers = (1, 2, 3, 4, 5)`의 요소 개수를 출력하세요."
   ]
  },
  {
   "cell_type": "code",
   "execution_count": null,
   "id": "567207d5",
   "metadata": {
    "id": "567207d5"
   },
   "outputs": [],
   "source": []
  },
  {
   "cell_type": "markdown",
   "id": "425a7abe",
   "metadata": {
    "id": "425a7abe"
   },
   "source": [
    "### **문제 5: 값의 위치 찾기**\n",
    "\n",
    "- 튜플 `numbers = (1, 2, 3, 4, 2, 5)`에서 값 `2`가 처음 등장하는 위치를 출력하세요."
   ]
  },
  {
   "cell_type": "code",
   "execution_count": null,
   "id": "1b9c7cf3",
   "metadata": {
    "id": "1b9c7cf3"
   },
   "outputs": [],
   "source": []
  },
  {
   "cell_type": "markdown",
   "id": "22294197",
   "metadata": {
    "id": "22294197"
   },
   "source": [
    "### **문제 6: 값의 개수 세기**\n",
    "\n",
    "- 튜플 `numbers = (1, 2, 3, 2, 4, 2, 5)`에서 값 `2`가 몇 번 등장하는지 출력하세요."
   ]
  },
  {
   "cell_type": "code",
   "execution_count": null,
   "id": "1daeb11f",
   "metadata": {
    "id": "1daeb11f"
   },
   "outputs": [],
   "source": []
  },
  {
   "cell_type": "markdown",
   "id": "bd2eb973",
   "metadata": {
    "id": "bd2eb973"
   },
   "source": [
    "### **문제 7: 튜플 결합**\n",
    "\n",
    "- 두 튜플 `tuple1 = (1, 2, 3)`과 `tuple2 = (4, 5, 6)`을 결합하여 출력하세요."
   ]
  },
  {
   "cell_type": "code",
   "execution_count": null,
   "id": "b3db9a76",
   "metadata": {
    "id": "b3db9a76"
   },
   "outputs": [],
   "source": []
  },
  {
   "cell_type": "markdown",
   "id": "d5653b58",
   "metadata": {
    "id": "d5653b58"
   },
   "source": [
    "### **문제 8: 튜플 반복**\n",
    "\n",
    "- 튜플 `numbers = (1, 2, 3)`을 3번 반복하여 출력하세요."
   ]
  },
  {
   "cell_type": "code",
   "execution_count": null,
   "id": "9f8c6dea",
   "metadata": {
    "id": "9f8c6dea"
   },
   "outputs": [],
   "source": []
  },
  {
   "cell_type": "markdown",
   "id": "2b8374cd",
   "metadata": {
    "id": "2b8374cd"
   },
   "source": [
    "### **문제 9: 튜플 변환**\n",
    "\n",
    "- 리스트 `[1, 2, 3, 4]`를 튜플로 변환하고, 튜플의 첫 번째 요소를 출력하세요."
   ]
  },
  {
   "cell_type": "code",
   "execution_count": null,
   "id": "9dbc115f",
   "metadata": {
    "id": "9dbc115f"
   },
   "outputs": [],
   "source": []
  },
  {
   "cell_type": "markdown",
   "id": "897df9fa",
   "metadata": {
    "id": "897df9fa"
   },
   "source": [
    "### **문제 10: 복잡한 튜플에서 값 추출**\n",
    "\n",
    "- 튜플 `data = ((\"Alice\", 25), (\"Bob\", 30), (\"Charlie\", 35))`에서 `\"Bob\"`의 나이를 출력하세요."
   ]
  },
  {
   "cell_type": "code",
   "execution_count": null,
   "id": "26622c54",
   "metadata": {
    "id": "26622c54"
   },
   "outputs": [],
   "source": []
  }
 ],
 "metadata": {
  "colab": {
   "provenance": []
  },
  "kernelspec": {
   "display_name": "Python 3",
   "language": "python",
   "name": "python3"
  },
  "language_info": {
   "codemirror_mode": {
    "name": "ipython",
    "version": 3
   },
   "file_extension": ".py",
   "mimetype": "text/x-python",
   "name": "python",
   "nbconvert_exporter": "python",
   "pygments_lexer": "ipython3",
   "version": "3.10.2"
  }
 },
 "nbformat": 4,
 "nbformat_minor": 5
}
