{
 "cells": [
  {
   "cell_type": "code",
   "execution_count": null,
   "metadata": {},
   "outputs": [
    {
     "name": "stdout",
     "output_type": "stream",
     "text": [
      "6\n"
     ]
    }
   ],
   "source": [
    "x = int(input(\"세 개의 정수를 입력하세요.\"))\n",
    "y = int(input(\"세 개의 정수를 입력하세요.\"))\n",
    "z = int(input(\"세 개의 정수를 입력하세요.\"))\n",
    "\n",
    "\n",
    "if x>=y and x>=z:\n",
    "    print(x)\n",
    "elif y>=z and y>=x:\n",
    "    print(y)\n",
    "else:\n",
    "    print(z)\n",
    "\n"
   ]
  },
  {
   "cell_type": "code",
   "execution_count": 9,
   "metadata": {},
   "outputs": [
    {
     "data": {
      "text/plain": [
       "6"
      ]
     },
     "execution_count": 9,
     "metadata": {},
     "output_type": "execute_result"
    }
   ],
   "source": [
    "num_list = [x, y, z]\n",
    "max(num_list)"
   ]
  },
  {
   "cell_type": "code",
   "execution_count": 29,
   "metadata": {},
   "outputs": [
    {
     "name": "stdout",
     "output_type": "stream",
     "text": [
      "19.5\n"
     ]
    }
   ],
   "source": [
    "x = [1, 10, 90, 32, 78, 40, 2]\n",
    "y = [38, 19,10, 20, 22, 18]\n",
    "\n",
    "\n",
    "a = y.copy()\n",
    "a.sort()\n",
    "center_a = len(a) // 2\n",
    "\n",
    "if len(a) % 2 ==1:\n",
    "    print(a[center_a])\n",
    "else:\n",
    "    print((a[center_a-1]+ a[center_a])/2)\n"
   ]
  },
  {
   "cell_type": "code",
   "execution_count": 43,
   "metadata": {},
   "outputs": [],
   "source": [
    "x = int(input(\"학색의 수학점수를 입력하세요.\"))"
   ]
  },
  {
   "cell_type": "code",
   "execution_count": 45,
   "metadata": {},
   "outputs": [
    {
     "name": "stdout",
     "output_type": "stream",
     "text": [
      "학생의 수학점수는 80점 입니다.\n",
      "반 평균은 70.91이고, 평균보다 9.090000000000003점 높습니다.\n"
     ]
    }
   ],
   "source": [
    "score_list = [70, 90, 50, 30, 100, 95, 95, 40, 90, 20, 100]\n",
    "\n",
    "s = score_list.copy()\n",
    "\n",
    "avg = sum(s)/ len(s)\n",
    "avg = round(avg, 2)\n",
    "\n",
    "\n",
    "if x>=0 and x<=100:\n",
    "    print(f\"학생의 수학점수는 {x}점 입니다.\")\n",
    "    if x<avg:\n",
    "        print(f\"반 평균은 {avg}이고, 평균보다 {avg-x}점 낮습니다.\")\n",
    "    elif x>avg:\n",
    "        print(f\"반 평균은 {avg}이고, 평균보다 {x-avg}점 높습니다.\")\n",
    "    else:\n",
    "        print(\"평균과 같습니다.\")\n",
    "else:\n",
    "    print(\"잘못된 값을 입력했습니다.\")\n",
    "    \n",
    "    \n",
    "    \n",
    "# 절댓값을 사용하는 경우\n",
    "# diff = round(abs(x-avg),2)\n",
    "    \n",
    "    "
   ]
  },
  {
   "cell_type": "markdown",
   "metadata": {},
   "source": [
    "## 가위바위보 게임 만들기\n",
    "\n",
    "- 결과 예시\n",
    "- ' 플레이어는 가위를 냈습니다.'\n",
    "- ' 컴퓨터는 보를 냈습니다.'\n",
    "- ' 플레이어가 승리!'"
   ]
  },
  {
   "cell_type": "code",
   "execution_count": 47,
   "metadata": {},
   "outputs": [
    {
     "name": "stdout",
     "output_type": "stream",
     "text": [
      "플레이어는 보를 냈습니다.\n",
      "컴퓨터는 보를 냈습니다.\n",
      "무승부\n"
     ]
    }
   ],
   "source": [
    "import random\n",
    "computer = random.choice(['가위', '바위', '보'])\n",
    "\n",
    "player = input(\"가위, 바위, 보 중 하나를 입력해주세요.\")\n",
    "\n",
    "print(f\"플레이어는 {player}를 냈습니다.\")\n",
    "print(f\"컴퓨터는 {computer}를 냈습니다.\")\n",
    "\n",
    "if computer == player:\n",
    "    print(\"무승부\")\n",
    "elif player == \"가위\":\n",
    "    if computer == \"보\":\n",
    "        print(\"플레이어 승리!\")\n",
    "    else:\n",
    "        print(\"컴퓨터 승리!\")\n",
    "elif player == \"바위\":\n",
    "    if computer == \"보\":\n",
    "        print(\"컴퓨터 승리!\")\n",
    "    else:\n",
    "        print(\"플레이어 승리!\")\n",
    "elif player == \"보\":\n",
    "    if computer == \"가위\":\n",
    "            print(\"컴퓨터 승리!\")\n",
    "    else:\n",
    "        print(\"플레이어 승리!\")\n",
    "else:\n",
    "    print(\"잘못 입력했습니다\")\n"
   ]
  },
  {
   "cell_type": "code",
   "execution_count": 49,
   "metadata": {},
   "outputs": [
    {
     "name": "stdout",
     "output_type": "stream",
     "text": [
      "플레이어는 가위를 냈습니다.\n",
      "컴퓨터는 보를 냈습니다.\n",
      "플레이어 승리\n"
     ]
    }
   ],
   "source": [
    "win_dict = {'가위':'보', \"바위\":\"가위\", \"보\":\"바위\"}\n",
    "\n",
    "player = input(\"가위, 바위, 보 중 하나를 입력해주세요.\")\n",
    "\n",
    "print(f\"플레이어는 {player}를 냈습니다.\")\n",
    "print(f\"컴퓨터는 {computer}를 냈습니다.\")\n",
    "\n",
    "\n",
    "if player not in win_dict:\n",
    "    print(\"잘못 입력했습니다.\")\n",
    "elif computer == player:\n",
    "    print(\"무승부\")\n",
    "elif win_dict[computer] == player:\n",
    "    print(\"컴퓨터 승리\")\n",
    "else:\n",
    "    print(\"플레이어 승리\")"
   ]
  },
  {
   "cell_type": "code",
   "execution_count": 60,
   "metadata": {},
   "outputs": [
    {
     "name": "stdout",
     "output_type": "stream",
     "text": [
      "1\n",
      "3\n",
      "5\n",
      "7\n",
      "9\n"
     ]
    }
   ],
   "source": [
    "a = 0\n",
    "while a < 10 :\n",
    "    a +=1\n",
    "    if a % 2 ==0:\n",
    "        continue\n",
    "    print(a)"
   ]
  },
  {
   "cell_type": "code",
   "execution_count": 63,
   "metadata": {},
   "outputs": [
    {
     "name": "stdout",
     "output_type": "stream",
     "text": [
      "500500\n"
     ]
    }
   ],
   "source": [
    "n = 0\n",
    "sum = 0\n",
    "\n",
    "while n<1000:\n",
    "    n +=1\n",
    "    sum += n\n",
    "print(sum)"
   ]
  },
  {
   "cell_type": "code",
   "execution_count": 67,
   "metadata": {},
   "outputs": [
    {
     "name": "stdout",
     "output_type": "stream",
     "text": [
      "100500\n"
     ]
    }
   ],
   "source": [
    "n = 0\n",
    "sum_5 = 0\n",
    "\n",
    "while n < 1000:\n",
    "    n += 1\n",
    "    \n",
    "    if n % 5 ==0:\n",
    "        sum_5 += n\n",
    "    \n",
    "print(sum_5)"
   ]
  },
  {
   "cell_type": "code",
   "execution_count": 71,
   "metadata": {},
   "outputs": [
    {
     "name": "stdout",
     "output_type": "stream",
     "text": [
      "커피를 줍니다.\n",
      "남은 커피의 양은 4잔 입니다.\n",
      "커피의 가격은 300원 입니다. 돈을 다시 돌려주고 커피를 주지 않습니다.\n",
      "남은 커피의 양은 4잔 입니다.\n",
      "거스름돈 700을 주고 커피를 줍니다.\n",
      "남은 커피의 양은 3잔 입니다.\n",
      "커피의 가격은 300원 입니다. 돈을 다시 돌려주고 커피를 주지 않습니다.\n",
      "남은 커피의 양은 3잔 입니다.\n",
      "커피를 줍니다.\n",
      "남은 커피의 양은 2잔 입니다.\n",
      "커피를 줍니다.\n",
      "남은 커피의 양은 1잔 입니다.\n",
      "커피를 줍니다.\n",
      "남은 커피의 양은 0잔 입니다.\n",
      "커피가 다 떨어졌습니다. 판매를 중지합니다.\n"
     ]
    }
   ],
   "source": [
    "# 커피 재고 5잔, 한 잔 가격 300원\n",
    "coffee = 5\n",
    "\n",
    "while True:\n",
    "    money = int(input(\"돈을 넣어 주세요.\"))\n",
    "    \n",
    "    if money == 300:\n",
    "        coffee -=1\n",
    "        print(\"커피를 줍니다.\")\n",
    "        print(f\"남은 커피의 양은 {coffee}잔 입니다.\")\n",
    "    elif money > 300:\n",
    "        coffee -=1\n",
    "        d = money-300\n",
    "        print(f\"거스름돈 {d}을 주고 커피를 줍니다.\")\n",
    "        print(f\"남은 커피의 양은 {coffee}잔 입니다.\")\n",
    "    else:\n",
    "        print(\"커피의 가격은 300원 입니다. 돈을 다시 돌려주고 커피를 주지 않습니다.\")\n",
    "        print(f\"남은 커피의 양은 {coffee}잔 입니다.\")\n",
    "    \n",
    "    if coffee ==0:\n",
    "        break\n",
    "print(\"커피가 다 떨어졌습니다. 판매를 중지합니다.\")\n",
    "        "
   ]
  },
  {
   "cell_type": "code",
   "execution_count": 73,
   "metadata": {},
   "outputs": [
    {
     "name": "stdout",
     "output_type": "stream",
     "text": [
      "*******\n",
      "******\n",
      "*****\n",
      "****\n",
      "***\n",
      "**\n",
      "*\n",
      "\n"
     ]
    }
   ],
   "source": [
    "s = 8\n",
    "\n",
    "while s > 0:\n",
    "    s -=1\n",
    "    print(\"*\"*s)"
   ]
  },
  {
   "cell_type": "code",
   "execution_count": 81,
   "metadata": {},
   "outputs": [
    {
     "name": "stdout",
     "output_type": "stream",
     "text": [
      "*******\n",
      " ***** \n",
      "  ***  \n",
      "   *   \n"
     ]
    }
   ],
   "source": [
    "# 홀수로 출력 7, 5, 3, 1\n",
    "s = 8\n",
    "\n",
    "while s > 0:\n",
    "    s -=1\n",
    "    \n",
    "    if s % 2 ==0:\n",
    "        continue\n",
    "    \n",
    "    star = s\n",
    "    blank = int((7-s)/2)\n",
    "    \n",
    "    print(' '*blank, \"*\"*s,' '*blank, sep='')"
   ]
  },
  {
   "cell_type": "code",
   "execution_count": 2,
   "metadata": {},
   "outputs": [
    {
     "name": "stdout",
     "output_type": "stream",
     "text": [
      "98\n",
      "입력숫자가 더 작습니다.\n",
      "입력숫자가 더 작습니다.\n",
      "입력숫자가 더 큽니다.\n",
      "정답입니다.\n"
     ]
    }
   ],
   "source": [
    "import random\n",
    "number = random.randint(1, 100)\n",
    "\n",
    "print(number)\n",
    "\n",
    "while True:\n",
    "    num = int(input(\"숫자를 맞춰보세요!\"))\n",
    "    \n",
    "    if num > number:\n",
    "        print(\"입력숫자가 더 큽니다.\")\n",
    "    elif num < number:\n",
    "        print(\"입력숫자가 더 작습니다.\")\n",
    "    \n",
    "    else:\n",
    "        print(\"정답입니다.\")\n",
    "        break"
   ]
  },
  {
   "cell_type": "code",
   "execution_count": 5,
   "metadata": {},
   "outputs": [
    {
     "name": "stdout",
     "output_type": "stream",
     "text": [
      "[5, 10, 15, 20, 25, 30, 35, 40, 45, 50]\n"
     ]
    }
   ],
   "source": [
    "# 1~50까지의 5의 배수를 리스트에 담으려면?\n",
    "\n",
    "ls = []\n",
    "\n",
    "for i in range(1,51):\n",
    "    if i % 5 ==0:\n",
    "        ls.append(i)\n",
    "print(ls)"
   ]
  },
  {
   "cell_type": "code",
   "execution_count": null,
   "metadata": {},
   "outputs": [
    {
     "name": "stdout",
     "output_type": "stream",
     "text": [
      "name : Merry\n",
      "age : 20\n",
      "num : 1\n"
     ]
    }
   ],
   "source": [
    "dic = { \"name\": \"Merry\", \"age\": \"20\", \"num\":1}\n",
    "\n",
    "\n",
    "# x : 키 / y : 값\n",
    "for x, y in dic.items():\n",
    "    print(x, ':', y)"
   ]
  },
  {
   "cell_type": "code",
   "execution_count": 10,
   "metadata": {},
   "outputs": [
    {
     "name": "stdout",
     "output_type": "stream",
     "text": [
      "3\n",
      "7\n",
      "11\n"
     ]
    }
   ],
   "source": [
    "a = [(1,2), (3,4), (5,6)]\n",
    "for i, j in a:\n",
    "    print(i+j)"
   ]
  },
  {
   "cell_type": "code",
   "execution_count": 15,
   "metadata": {},
   "outputs": [
    {
     "name": "stdout",
     "output_type": "stream",
     "text": [
      "2 4 6 8 10 12 14 16 18 \n",
      "3 6 9 12 15 18 21 24 27 \n",
      "4 8 12 16 20 24 28 32 36 \n",
      "5 10 15 20 25 30 35 40 45 \n",
      "6 12 18 24 30 36 42 48 54 \n",
      "7 14 21 28 35 42 49 56 63 \n",
      "8 16 24 32 40 48 56 64 72 \n",
      "9 18 27 36 45 54 63 72 81 \n"
     ]
    }
   ],
   "source": [
    "# 구구단 2단 출력해보자 ~\n",
    "\n",
    "for i in range(2,10):\n",
    "    for j in range(1,10):\n",
    "        print(i*j,end=' ')\n",
    "    print()"
   ]
  },
  {
   "cell_type": "code",
   "execution_count": null,
   "metadata": {},
   "outputs": [
    {
     "name": "stdout",
     "output_type": "stream",
     "text": [
      "h\n",
      "eh\n",
      "leh\n",
      "lleh\n",
      "olleh\n"
     ]
    }
   ],
   "source": [
    "input_str = input(\"문자열을 입력하세요\")\n",
    "output_str = \"\"\n",
    "\n",
    "for i in input_str:\n",
    "    output_str = i+output_str\n",
    "    print(output_str)\n",
    "\n"
   ]
  },
  {
   "cell_type": "code",
   "execution_count": 20,
   "metadata": {},
   "outputs": [
    {
     "name": "stdout",
     "output_type": "stream",
     "text": [
      "100500\n"
     ]
    }
   ],
   "source": [
    "sum = 0\n",
    "\n",
    "\n",
    "for i in range(1,1001):\n",
    "    if i % 5 == 0:\n",
    "        sum += i\n",
    "print(sum)"
   ]
  },
  {
   "cell_type": "code",
   "execution_count": 23,
   "metadata": {},
   "outputs": [
    {
     "name": "stdout",
     "output_type": "stream",
     "text": [
      "{'A': [100, 90, 86, 90], 'B': [70], 'C': [45, 50, 60, 48], 'D': [20, 25]}\n"
     ]
    }
   ],
   "source": [
    "score_list = [ 20,100,45,50,60,70,48,90,86,90,25]\n",
    "\n",
    "# 딕셔너리를 만들어 점수 관리하기!\n",
    "score_dict = { 'A':[], 'B':[],'C':[],'D':[]}\n",
    "\n",
    "for i in score_list:\n",
    "    if i >= 81:\n",
    "        score_dict['A'].append(i)\n",
    "    elif i >= 61:\n",
    "        score_dict['B'].append(i)\n",
    "    elif i >=41:\n",
    "        score_dict['C'].append(i)\n",
    "    else:\n",
    "        score_dict['D'].append(i)\n",
    "print(score_dict)\n"
   ]
  },
  {
   "cell_type": "code",
   "execution_count": 25,
   "metadata": {},
   "outputs": [
    {
     "name": "stdout",
     "output_type": "stream",
     "text": [
      "등급 A의 학생수는 4명입니다.\n",
      "등급 B의 학생수는 1명입니다.\n",
      "등급 C의 학생수는 4명입니다.\n",
      "등급 D의 학생수는 2명입니다.\n"
     ]
    }
   ],
   "source": [
    "for k, n in score_dict.items():\n",
    "    print(f\"등급 {k}의 학생수는 {len(n)}명입니다.\")"
   ]
  },
  {
   "cell_type": "code",
   "execution_count": 5,
   "metadata": {},
   "outputs": [
    {
     "name": "stdout",
     "output_type": "stream",
     "text": [
      "53\n",
      "입력하신 숫자가 더 커요.\n",
      "정답입니다!\n"
     ]
    }
   ],
   "source": [
    "import random\n",
    "number = random.randint(1,100)\n",
    "\n",
    "print(number)\n",
    "\n",
    "for i in range(0,5):\n",
    "    input_num = int(input(\"숫자를 입력하세요!\"))\n",
    "    \n",
    "    if input_num > number:\n",
    "        print(\"입력하신 숫자가 더 커요.\")\n",
    "    elif input_num < number :\n",
    "        print(\"입력하신 숫자가 더 작아요.\")\n",
    "    else:\n",
    "        print(\"정답입니다!\")\n",
    "        break\n",
    "    \n",
    "if number != input_num:\n",
    "    print(f\"GAME OVER! 정답은 : {number} \")\n",
    "    "
   ]
  },
  {
   "cell_type": "code",
   "execution_count": null,
   "metadata": {},
   "outputs": [],
   "source": []
  },
  {
   "cell_type": "code",
   "execution_count": null,
   "metadata": {},
   "outputs": [],
   "source": []
  }
 ],
 "metadata": {
  "kernelspec": {
   "display_name": "Python 3",
   "language": "python",
   "name": "python3"
  },
  "language_info": {
   "codemirror_mode": {
    "name": "ipython",
    "version": 3
   },
   "file_extension": ".py",
   "mimetype": "text/x-python",
   "name": "python",
   "nbconvert_exporter": "python",
   "pygments_lexer": "ipython3",
   "version": "3.10.2"
  }
 },
 "nbformat": 4,
 "nbformat_minor": 2
}
