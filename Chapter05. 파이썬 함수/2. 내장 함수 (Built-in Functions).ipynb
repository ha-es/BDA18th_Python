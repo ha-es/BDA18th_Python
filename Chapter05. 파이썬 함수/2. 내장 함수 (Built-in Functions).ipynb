{
 "cells": [
  {
   "cell_type": "markdown",
   "id": "73963924",
   "metadata": {},
   "source": [
    "# 2. 내장 함수 (Built-in Functions)\n",
    "\n",
    "**내장 함수**는 별도의 모듈을 임포트하지 않고도 사용할 수 있는 파이썬의 기본 제공 함수입니다.\n",
    "\n",
    "(구글에서 python built-in functions 검색)\n",
    "\n",
    "- [Python Built-in Functions Documentation](https://docs.python.org/3/library/functions.html)\n",
    "\n",
    "![img](https://file.notion.so/f/f/55199e9f-cf92-44a7-8d9d-f768017a960b/ec81318f-9352-45a2-a42e-c54171a10979/Untitled.png?table=block&id=76c105bd-fa4b-4f37-ae1a-a5e6c3550472&spaceId=55199e9f-cf92-44a7-8d9d-f768017a960b&expirationTimestamp=1735473600000&signature=IbTxabTeiIlPHPPqp8H8eQGeF-71JOlkHllONLiHorc&downloadName=Untitled.png)\n"
   ]
  },
  {
   "cell_type": "markdown",
   "id": "a72030f8",
   "metadata": {},
   "source": [
    "### 1. `print()`\n",
    "\n",
    "출력 함수로 데이터를 콘솔에 출력합니다."
   ]
  },
  {
   "cell_type": "code",
   "execution_count": null,
   "id": "3b2c7dec",
   "metadata": {},
   "outputs": [],
   "source": [
    "print(\"Hello, Python!\")  # Hello, Python!"
   ]
  },
  {
   "cell_type": "markdown",
   "id": "53702593",
   "metadata": {},
   "source": [
    "### 2. `len()`\n",
    "\n",
    "데이터의 길이를 반환합니다."
   ]
  },
  {
   "cell_type": "code",
   "execution_count": null,
   "id": "d96c4c68",
   "metadata": {},
   "outputs": [],
   "source": [
    "text = \"Python\"\n",
    "print(len(text))  # 6"
   ]
  },
  {
   "cell_type": "markdown",
   "id": "befb8f18",
   "metadata": {},
   "source": [
    "### 3. `type()`\n",
    "\n",
    "데이터의 자료형을 반환합니다."
   ]
  },
  {
   "cell_type": "code",
   "execution_count": null,
   "id": "22d3e323",
   "metadata": {},
   "outputs": [],
   "source": [
    "print(type(123))       # <class 'int'>\n",
    "print(type(\"Python\"))  # <class 'str'>"
   ]
  },
  {
   "cell_type": "markdown",
   "id": "915f6332",
   "metadata": {},
   "source": [
    "### 4. `max()`와 `min()`\n",
    "\n",
    "데이터에서 최대값과 최소값을 반환합니다."
   ]
  },
  {
   "cell_type": "code",
   "execution_count": null,
   "id": "3fe413f4",
   "metadata": {},
   "outputs": [],
   "source": [
    "numbers = [10, 20, 30]\n",
    "print(max(numbers))  # 30\n",
    "print(min(numbers))  # 10"
   ]
  },
  {
   "cell_type": "markdown",
   "id": "102ce5b4",
   "metadata": {},
   "source": [
    "### 5. `sorted()`\n",
    "\n",
    "데이터를 정렬된 리스트로 반환합니다."
   ]
  },
  {
   "cell_type": "code",
   "execution_count": null,
   "id": "502d6a6d",
   "metadata": {},
   "outputs": [],
   "source": [
    "numbers = [3, 1, 2]\n",
    "print(sorted(numbers))  # [1, 2, 3]"
   ]
  },
  {
   "cell_type": "markdown",
   "id": "192b9b3d",
   "metadata": {},
   "source": [
    "### 6. `sum()`\n",
    "\n",
    "데이터의 합계를 반환합니다."
   ]
  },
  {
   "cell_type": "code",
   "execution_count": null,
   "id": "e15ecb2b",
   "metadata": {},
   "outputs": [],
   "source": [
    "numbers = [1, 2, 3]\n",
    "print(sum(numbers))  # 6"
   ]
  },
  {
   "cell_type": "markdown",
   "id": "61f24878",
   "metadata": {},
   "source": [
    "### 7. `zip()`\n",
    "\n",
    "여러 시퀀스를 병렬로 묶습니다."
   ]
  },
  {
   "cell_type": "code",
   "execution_count": null,
   "id": "88c21fbb",
   "metadata": {},
   "outputs": [],
   "source": [
    "names = [\"Alice\", \"Bob\"]\n",
    "ages = [25, 30]\n",
    "print(list(zip(names, ages)))  # [('Alice', 25), ('Bob', 30)]"
   ]
  }
 ],
 "metadata": {
  "language_info": {
   "name": "python"
  }
 },
 "nbformat": 4,
 "nbformat_minor": 5
}
