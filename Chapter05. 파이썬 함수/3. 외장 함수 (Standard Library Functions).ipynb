{
 "cells": [
  {
   "cell_type": "markdown",
   "id": "1d990e43",
   "metadata": {},
   "source": [
    "# 3. 외장 함수 (Standard Library Functions)\n",
    "\n",
    "**외장 함수**는 파이썬의 표준 라이브러리 모듈에 포함된 함수입니다. 사용하기 위해 모듈을 **`import`** 해야 합니다."
   ]
  },
  {
   "cell_type": "markdown",
   "id": "e12ba739",
   "metadata": {},
   "source": [
    "### 1. `math` 모듈\n",
    "\n",
    "수학 연산을 위한 함수들을 제공합니다."
   ]
  },
  {
   "cell_type": "code",
   "execution_count": null,
   "id": "cba866df",
   "metadata": {},
   "outputs": [],
   "source": [
    "import math\n",
    "\n",
    "print(math.sqrt(16))  # 4.0 (제곱근)\n",
    "print(math.pi)        # 3.141592653589793"
   ]
  },
  {
   "cell_type": "markdown",
   "id": "4c377d88",
   "metadata": {},
   "source": [
    "### 2. `random` 모듈\n",
    "\n",
    "난수 생성을 위한 함수들을 제공합니다."
   ]
  },
  {
   "cell_type": "code",
   "execution_count": null,
   "id": "c12e2e05",
   "metadata": {},
   "outputs": [],
   "source": [
    "import random\n",
    "\n",
    "print(random.randint(1, 10))  # 1부터 10 사이의 정수 난수\n",
    "print(random.choice([1, 2, 3, 4, 5]))  # 리스트에서 랜덤 선택"
   ]
  },
  {
   "cell_type": "markdown",
   "id": "031e51dc",
   "metadata": {},
   "source": [
    "### 3. `datetime` 모듈\n",
    "\n",
    "날짜와 시간을 다루는 함수들을 제공합니다."
   ]
  },
  {
   "cell_type": "code",
   "execution_count": null,
   "id": "8b5b96ee",
   "metadata": {},
   "outputs": [],
   "source": [
    "from datetime import datetime\n",
    "\n",
    "now = datetime.now()\n",
    "print(now)  # 현재 날짜와 시간\n",
    "print(now.strftime(\"%Y-%m-%d\"))  # 포맷팅된 날짜"
   ]
  },
  {
   "cell_type": "markdown",
   "id": "f5f3f4de",
   "metadata": {},
   "source": [
    "### 4. `os` 모듈\n",
    "\n",
    "운영 체제 작업(파일, 디렉터리 등)을 위한 함수들을 제공합니다."
   ]
  },
  {
   "cell_type": "code",
   "execution_count": null,
   "id": "fb7bb473",
   "metadata": {},
   "outputs": [],
   "source": [
    "import os\n",
    "\n",
    "print(os.getcwd())  # 현재 작업 디렉터리\n",
    "os.mkdir(\"test_folder\")  # 새로운 디렉터리 생성"
   ]
  },
  {
   "cell_type": "markdown",
   "id": "0a9d5067",
   "metadata": {},
   "source": [
    "### 5. `sys` 모듈\n",
    "\n",
    "파이썬 인터프리터와 관련된 작업을 수행하는 함수들을 제공합니다."
   ]
  },
  {
   "cell_type": "code",
   "execution_count": null,
   "id": "321d3790",
   "metadata": {},
   "outputs": [],
   "source": [
    "import sys\n",
    "\n",
    "print(sys.version)  # 파이썬 버전 정보\n",
    "print(sys.path)     # 모듈 검색 경로"
   ]
  },
  {
   "cell_type": "markdown",
   "id": "b0bcd83d",
   "metadata": {},
   "source": [
    "### 6. `json` 모듈\n",
    "\n",
    "JSON 데이터를 다루는 함수들을 제공합니다."
   ]
  },
  {
   "cell_type": "code",
   "execution_count": null,
   "id": "da7c1b3c",
   "metadata": {},
   "outputs": [],
   "source": [
    "import json\n",
    "\n",
    "data = {\"name\": \"Alice\", \"age\": 25}\n",
    "json_data = json.dumps(data)  # JSON 문자열로 변환\n",
    "print(json_data)  # {\"name\": \"Alice\", \"age\": 25}"
   ]
  }
 ],
 "metadata": {},
 "nbformat": 4,
 "nbformat_minor": 5
}
