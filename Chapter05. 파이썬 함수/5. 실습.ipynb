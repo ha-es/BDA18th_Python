{
 "cells": [
  {
   "cell_type": "markdown",
   "id": "fd32ca7b",
   "metadata": {},
   "source": [
    "# [실습]\n",
    "\n",
    "### 문제 1: 함수 작성\n",
    "\n",
    "- 두 숫자를 입력받아 더한 값을 반환하는 함수를 작성하세요."
   ]
  },
  {
   "cell_type": "code",
   "execution_count": null,
   "id": "1c4f7581",
   "metadata": {},
   "outputs": [],
   "source": []
  },
  {
   "cell_type": "markdown",
   "id": "fe2e52e9",
   "metadata": {},
   "source": [
    "### 문제 2: 기본값 매개변수\n",
    "\n",
    "이름과 나이를 출력하는 함수를 작성하세요. 나이를 입력하지 않으면 기본값으로 20을 사용하세요."
   ]
  },
  {
   "cell_type": "code",
   "execution_count": null,
   "id": "e2bfd28e",
   "metadata": {},
   "outputs": [],
   "source": []
  },
  {
   "cell_type": "markdown",
   "id": "7e20ba7a",
   "metadata": {},
   "source": [
    "### 문제 3: 가변 매개변수\n",
    "\n",
    "- 여러 개의 숫자를 입력받아 그 합을 반환하는 함수를 작성하세요."
   ]
  },
  {
   "cell_type": "code",
   "execution_count": null,
   "id": "84d6dd4b",
   "metadata": {},
   "outputs": [],
   "source": []
  },
  {
   "cell_type": "markdown",
   "id": "f9cd5778",
   "metadata": {},
   "source": [
    "### 문제 4: 클래스 정의\n",
    "\n",
    "- `Car` 클래스를 정의하고, `brand`와 `model`을 속성으로 가지며, 이를 출력하는 메서드를 작성하세요."
   ]
  },
  {
   "cell_type": "code",
   "execution_count": null,
   "id": "86f7c86a",
   "metadata": {},
   "outputs": [],
   "source": []
  },
  {
   "cell_type": "markdown",
   "id": "a56781c2",
   "metadata": {},
   "source": [
    "### 문제 5: 클래스 변수\n",
    "\n",
    "`Student` 클래스를 정의하고, 생성될 때마다 학생 수를 카운트하는 클래스를 작성하세요."
   ]
  },
  {
   "cell_type": "code",
   "execution_count": null,
   "id": "a71c8a9d",
   "metadata": {},
   "outputs": [],
   "source": []
  },
  {
   "cell_type": "markdown",
   "id": "2bfcb463",
   "metadata": {},
   "source": [
    "### 문제 6: 리스트의 최대값 찾기 함수\n",
    "\n",
    "- 리스트를 입력받아 최대값을 반환하는 함수를 작성하세요."
   ]
  },
  {
   "cell_type": "code",
   "execution_count": null,
   "id": "3a41d99d",
   "metadata": {},
   "outputs": [],
   "source": []
  },
  {
   "cell_type": "markdown",
   "id": "9359765f",
   "metadata": {},
   "source": [
    "### 문제 7: 문자열 역순 반환 함수\n",
    "\n",
    "- 문자열을 입력받아 역순으로 반환하는 함수를 작성하세요."
   ]
  },
  {
   "cell_type": "code",
   "execution_count": null,
   "id": "cdd24b26",
   "metadata": {},
   "outputs": [],
   "source": []
  },
  {
   "cell_type": "markdown",
   "id": "8a42d048",
   "metadata": {},
   "source": [
    "### 문제 8: 은행 계좌 클래스\n",
    "\n",
    "- `BankAccount` 클래스를 정의하고, 입금하고 출금하는 메서드를 작성하세요.\n",
    "- 클래스 생성 시 balance를 입력하세요."
   ]
  },
  {
   "cell_type": "code",
   "execution_count": null,
   "id": "ed57f49a",
   "metadata": {},
   "outputs": [],
   "source": []
  },
  {
   "cell_type": "markdown",
   "id": "600f0970",
   "metadata": {},
   "source": [
    "### 문제 9: 다중 메서드 클래스\n",
    "\n",
    "- `Rectangle` 클래스를 정의하고, 가로와 세로를 받아 넓이와 둘레를 계산하는 메서드를 작성하세요."
   ]
  },
  {
   "cell_type": "code",
   "execution_count": null,
   "id": "45540b47",
   "metadata": {},
   "outputs": [],
   "source": []
  },
  {
   "cell_type": "markdown",
   "id": "70667016",
   "metadata": {},
   "source": [
    "### 문제 10: 학생 관리 시스템\n",
    "\n",
    "- `Student` 클래스를 정의하고, 학생 이름과 점수를 관리하며 평균 점수를 계산하는 메서드를 작성하세요."
   ]
  },
  {
   "cell_type": "code",
   "execution_count": null,
   "id": "c5dee565",
   "metadata": {},
   "outputs": [],
   "source": []
  }
 ],
 "metadata": {
  "language_info": {
   "name": "python"
  }
 },
 "nbformat": 4,
 "nbformat_minor": 5
}
