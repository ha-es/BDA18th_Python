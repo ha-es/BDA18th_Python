{
 "cells": [
  {
   "cell_type": "markdown",
   "id": "fa86b845",
   "metadata": {},
   "source": [
    "# 1. 파이썬 함수(def) → define\n",
    "\n",
    "프로그래밍 중 반복적으로 생성되는 코드들을 재활용하여 사용하고 싶을 때 사용하며,\n",
    "\n",
    "호출을 할 때만 실행이 되는 일련의 코드 블록을 의미.\n",
    "\n",
    "- 100줄 짜리 코드\n",
    "- 20줄 짜리 5개의 함수 → 디버깅(오류가 났을 때 해결하는 것) 속도가 훨씬 빨라져요.\n",
    "\n",
    "함수 구조\n",
    "```python\n",
    "def 함수명(매개변수):\n",
    "   실행할 문장\n",
    "```\n",
    "\n",
    "입력값이 있고 ⇒ 함수를 통과 해서 ⇒ 어떠한 결과값이 나오는 구조.\n",
    "\n",
    "![Untitled](https://file.notion.so/f/f/55199e9f-cf92-44a7-8d9d-f768017a960b/20b8653e-4c69-48f2-b42a-f83a78ee3f60/Untitled.png?table=block&id=fd7f52bf-1861-4ccb-adb8-7ec147756f78&spaceId=55199e9f-cf92-44a7-8d9d-f768017a960b&expirationTimestamp=1735473600000&signature=zlhzZxgU_TiZfDMGfvDQUnVsP0tdhrIyre379S8HZtc&downloadName=Untitled.png)"
   ]
  },
  {
   "cell_type": "markdown",
   "id": "725161a3",
   "metadata": {},
   "source": [
    "### 함수의 기본 구조"
   ]
  },
  {
   "cell_type": "code",
   "execution_count": null,
   "id": "4363a808",
   "metadata": {},
   "outputs": [],
   "source": [
    "def name():\n",
    "\tprint(\"함수 생성\")\n",
    "\n",
    "# *파이썬 파일을 실행해도 함수는 실행이 안됨.\n",
    "name()"
   ]
  },
  {
   "cell_type": "markdown",
   "id": "1a4b56c0",
   "metadata": {},
   "source": [
    "### **함수의 다양한 모습**"
   ]
  },
  {
   "cell_type": "code",
   "execution_count": null,
   "id": "223429ad",
   "metadata": {},
   "outputs": [],
   "source": [
    "# (1) 매개변수가 있는 함수\n",
    "def my_name(name):\n",
    "\tprint(\"제 이름은 \" + name + \"입니다.\")\n",
    "\n",
    "my_name(\"인섭\")"
   ]
  },
  {
   "cell_type": "code",
   "execution_count": null,
   "id": "6b6b9903",
   "metadata": {},
   "outputs": [],
   "source": [
    "# (2) 매개변수 지정도 가능\n",
    "def my_name(name = \"inseop\"):\n",
    "\tprint(\"제 이름은 \" + name + \"입니다.\")\n",
    "\n",
    "my_name()"
   ]
  },
  {
   "cell_type": "code",
   "execution_count": null,
   "id": "d338d829",
   "metadata": {},
   "outputs": [],
   "source": [
    "# (3) 리턴(return)이 있는 함수\n",
    "def sum(a, b): # a,b를 매개변수 (parameter)\n",
    "\tresult = a + b\n",
    "\treturn a+b\n",
    "\n",
    "print(sum(3, 4)) # 3, 4를 인수 (arguments)\n",
    "print(sum(a=3, b=4))"
   ]
  },
  {
   "cell_type": "markdown",
   "id": "1cddc912",
   "metadata": {},
   "source": [
    "## (1) 함수의 주요 요소\n",
    "\n",
    "### 매개변수와 인자\n",
    "\n",
    "- **매개변수(Parameter)**: 함수 정의 시 입력값을 받기 위한 변수.\n",
    "- **인자(Argument)**: 함수 호출 시 전달하는 값."
   ]
  },
  {
   "cell_type": "code",
   "execution_count": null,
   "id": "ba35c70c",
   "metadata": {},
   "outputs": [],
   "source": [
    "def add(a, b):  # a와 b는 매개변수\n",
    "    return a + b\n",
    "\n",
    "print(add(2, 3))  # 2와 3은 인자"
   ]
  },
  {
   "cell_type": "markdown",
   "id": "223966f6",
   "metadata": {},
   "source": [
    "### 기본값 매개변수"
   ]
  },
  {
   "cell_type": "code",
   "execution_count": null,
   "id": "ed5ff026",
   "metadata": {},
   "outputs": [],
   "source": [
    "def greet(name=\"Guest\"):\n",
    "    return f\"Hello, {name}!\"\n",
    "\n",
    "print(greet())          # Hello, Guest!\n",
    "print(greet(\"Alice\"))   # Hello, Alice!"
   ]
  },
  {
   "cell_type": "markdown",
   "id": "85b74490",
   "metadata": {},
   "source": [
    "### 가변 매개변수"
   ]
  },
  {
   "cell_type": "code",
   "execution_count": null,
   "id": "c76d61fd",
   "metadata": {},
   "outputs": [],
   "source": [
    "def add_all(*args):  # 여러 개의 인자를 받을 때 사용\n",
    "    return sum(args)\n",
    "\n",
    "print(add_all(1, 2, 3, 4))  # 10"
   ]
  }
 ],
 "metadata": {
  "language_info": {
   "name": "python"
  }
 },
 "nbformat": 4,
 "nbformat_minor": 5
}
