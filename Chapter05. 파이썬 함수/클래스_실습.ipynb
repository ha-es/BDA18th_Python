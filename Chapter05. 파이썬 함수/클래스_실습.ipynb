{
 "cells": [
  {
   "cell_type": "markdown",
   "id": "fd32ca7b",
   "metadata": {},
   "source": [
    "\n",
    "# [실습]\n",
    "\n",
    "### 문제 1: 함수 작성\n",
    "\n",
    "- 두 숫자를 입력받아 더한 값을 반환하는 함수를 작성하세요."
   ]
  },
  {
   "cell_type": "code",
   "execution_count": 1,
   "id": "1c4f7581",
   "metadata": {},
   "outputs": [
    {
     "name": "stdout",
     "output_type": "stream",
     "text": [
      "5\n"
     ]
    }
   ],
   "source": [
    "num1 = int(input(\"첫번째 숫자를 입력하세요.\"))\n",
    "num2 = int(input(\"두번째 숫자를 입력하세요.\"))\n",
    "\n",
    "def add_num(a,b):\n",
    "    result = a+b\n",
    "    return result\n",
    "\n",
    "print(add_num(num1,num2))\n",
    "    "
   ]
  },
  {
   "cell_type": "markdown",
   "id": "fe2e52e9",
   "metadata": {},
   "source": [
    "### 문제 2: 기본값 매개변수\n",
    "\n",
    "이름과 나이를 출력하는 함수를 작성하세요. 나이를 입력하지 않으면 기본값으로 20을 사용하세요."
   ]
  },
  {
   "cell_type": "code",
   "execution_count": 27,
   "id": "e2bfd28e",
   "metadata": {},
   "outputs": [
    {
     "name": "stdout",
     "output_type": "stream",
     "text": [
      "이름은 냥냥이고, 나이는 20입니다.\n",
      "None\n"
     ]
    }
   ],
   "source": [
    "\n",
    "def info(name, age=20):\n",
    "    print(f\"이름은 {name}이고, 나이는 {age}입니다.\")\n",
    "\n",
    "print(info('냥냥'))"
   ]
  },
  {
   "cell_type": "markdown",
   "id": "7e20ba7a",
   "metadata": {},
   "source": [
    "### 문제 3: 가변 매개변수\n",
    "\n",
    "- 여러 개의 숫자를 입력받아 그 합을 반환하는 함수를 작성하세요."
   ]
  },
  {
   "cell_type": "code",
   "execution_count": 30,
   "id": "84d6dd4b",
   "metadata": {},
   "outputs": [
    {
     "name": "stdout",
     "output_type": "stream",
     "text": [
      "(1, 2, 3, 4, 5, 6, 7)\n",
      "1\n",
      "2\n",
      "3\n",
      "4\n",
      "5\n",
      "6\n",
      "7\n"
     ]
    }
   ],
   "source": [
    "def add_num(*args):\n",
    "    print (args)\n",
    "    \n",
    "    for i in args:\n",
    "        print(i)\n",
    "\n",
    "\n",
    "add_num(1,2,3,4,5,6,7)"
   ]
  },
  {
   "cell_type": "markdown",
   "id": "f9cd5778",
   "metadata": {},
   "source": [
    "### 문제 4: 클래스 정의\n",
    "\n",
    "- `Car` 클래스를 정의하고, `brand`와 `model`을 속성으로 가지며, 이를 출력하는 메서드를 작성하세요."
   ]
  },
  {
   "cell_type": "code",
   "execution_count": 32,
   "id": "86f7c86a",
   "metadata": {},
   "outputs": [
    {
     "name": "stdout",
     "output_type": "stream",
     "text": [
      "브랜드는 현대이고, 모델은 어쩌고모델입니다.\n",
      "None\n"
     ]
    }
   ],
   "source": [
    "class Car:\n",
    "    def __init__ (self, brand, model):\n",
    "        self.brand = brand\n",
    "        self.model = model\n",
    "        \n",
    "    def car_info(self):\n",
    "        print(f\"브랜드는 {self.brand}이고, 모델은 { self.model}입니다.\")\n",
    "\n",
    "car1 = Car(\"현대\",\"어쩌고모델\")\n",
    "print(car1.car_info())"
   ]
  },
  {
   "cell_type": "markdown",
   "id": "a56781c2",
   "metadata": {},
   "source": [
    "### 문제 5: 클래스 변수\n",
    "\n",
    "`Student` 클래스를 정의하고, 생성될 때마다 학생 수를 카운트하는 클래스를 작성하세요."
   ]
  },
  {
   "cell_type": "code",
   "execution_count": 18,
   "id": "a71c8a9d",
   "metadata": {},
   "outputs": [
    {
     "name": "stdout",
     "output_type": "stream",
     "text": [
      "총 학생 수: 3\n"
     ]
    }
   ],
   "source": [
    "class Student:\n",
    "    student_cnt = 0\n",
    "    def __init__(self):\n",
    "        Student.student_cnt +=1\n",
    "\n",
    "\n",
    "s1 = Student()\n",
    "s2 = Student()\n",
    "s3 = Student()\n",
    "\n",
    "print(f\"총 학생 수: {Student.student_cnt}\")"
   ]
  },
  {
   "cell_type": "markdown",
   "id": "8a42d048",
   "metadata": {},
   "source": [
    "### 문제 8: 은행 계좌 클래스\n",
    "\n",
    "- `BankAccount` 클래스를 정의하고, 입금하고 출금하는 메서드를 작성하세요.\n",
    "- 클래스 생성 시 balance를 입력하세요."
   ]
  },
  {
   "cell_type": "code",
   "execution_count": 21,
   "id": "ed57f49a",
   "metadata": {},
   "outputs": [
    {
     "name": "stdout",
     "output_type": "stream",
     "text": [
      "5000원이 입금되었습니다.\n",
      "현재 잔액 : 10000원\n",
      "3000원이 출금되었습니다.\n",
      "현재 잔액 : 7000원\n",
      "잔액이 부족하거나 잘못된 금액입니다.\n"
     ]
    }
   ],
   "source": [
    "class BankAccount:\n",
    "    \n",
    "    def __init__(self,balance=0):\n",
    "        self.balance = balance\n",
    "    \n",
    "    \n",
    "    # 입금\n",
    "    def deposit(self, amount):\n",
    "        if amount>0:\n",
    "            self.balance == amount\n",
    "            print(f\"{amount}원이 입금되었습니다.\")\n",
    "            print(f\"현재 잔액 : {self.balance}원\")\n",
    "        else:\n",
    "            print(\"입금 금액은 0보다 커야 합니다.\")\n",
    "            \n",
    "    # 출금\n",
    "    def withdraw(self,amount):\n",
    "        if 0< amount <= self.balance:\n",
    "            self.balance -= amount\n",
    "            print(f\"{amount}원이 출금되었습니다.\")\n",
    "            print(f\"현재 잔액 : {self.balance}원\")\n",
    "        else:\n",
    "            print(\"잔액이 부족하거나 잘못된 금액입니다.\")\n",
    "            \n",
    "    \n",
    "account = BankAccount(10000)  # 초기 잔액 10,000원\n",
    "account.deposit(5000)  # 5000원 입금\n",
    "account.withdraw(3000)  # 3000원 출금\n",
    "account.withdraw(15000)  # 잔액 부족으로 출금 실패         "
   ]
  },
  {
   "cell_type": "markdown",
   "id": "600f0970",
   "metadata": {},
   "source": [
    "### 문제 9: 다중 메서드 클래스\n",
    "\n",
    "- `Rectangle` 클래스를 정의하고, 가로와 세로를 받아 넓이와 둘레를 계산하는 메서드를 작성하세요."
   ]
  },
  {
   "cell_type": "code",
   "execution_count": 26,
   "id": "45540b47",
   "metadata": {},
   "outputs": [
    {
     "name": "stdout",
     "output_type": "stream",
     "text": [
      "16\n"
     ]
    }
   ],
   "source": [
    "class Rectangle:\n",
    "    def __init__(self,x,y):\n",
    "        self.x=x\n",
    "        self.y=y\n",
    "    \n",
    "    def perimeter(self,a,b):\n",
    "        self.x =a\n",
    "        self.y=b\n",
    "        return 2*( self.x+ self.y)\n",
    "    \n",
    "\n",
    "    \n",
    "print(n.perimeter(5,3))\n",
    "    "
   ]
  },
  {
   "cell_type": "markdown",
   "id": "70667016",
   "metadata": {},
   "source": [
    "### 문제 10: 학생 관리 시스템\n",
    "\n",
    "- `Student` 클래스를 정의하고, 학생 이름과 점수를 관리하며 평균 점수를 계산하는 메서드를 작성하세요."
   ]
  },
  {
   "cell_type": "code",
   "execution_count": null,
   "id": "c5dee565",
   "metadata": {},
   "outputs": [],
   "source": []
  }
 ],
 "metadata": {
  "kernelspec": {
   "display_name": "Python 3",
   "language": "python",
   "name": "python3"
  },
  "language_info": {
   "codemirror_mode": {
    "name": "ipython",
    "version": 3
   },
   "file_extension": ".py",
   "mimetype": "text/x-python",
   "name": "python",
   "nbconvert_exporter": "python",
   "pygments_lexer": "ipython3",
   "version": "3.10.2"
  }
 },
 "nbformat": 4,
 "nbformat_minor": 5
}
