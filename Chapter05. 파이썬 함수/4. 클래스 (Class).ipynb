{
 "cells": [
  {
   "cell_type": "markdown",
   "id": "02bcd7f6",
   "metadata": {},
   "source": [
    "# 4. 클래스란?\n",
    "\n",
    "클래스는 객체 지향 프로그래밍의 핵심 개념으로, 객체(Object)를 생성하는 데 사용 (파이썬의 아웃풋)\n",
    "\n",
    "클래스는 속성과 메서드를 정의하며, 객체는 이를 기반으로 만들어집니다.\n",
    "\n",
    "하나의 틀과 같은 역할을 하며, 데이터 저장도 가능하다.\n",
    "\n",
    "ex) 붕어빵을 만들어 내는 틀 - 팥을 넣으면 팥붕어빵, 슈크림 넣으면 슈크림 붕어빵, 피자 재료를 넣으면 피자 붕어빵\n",
    "\n",
    "함수는 특정 기능을 수행하는 일련의 코드블록을 나타내는데, 클래스는 함수보다는 더 큰 개념.\n",
    "\n",
    "함수를 여러개 모아놓은 것."
   ]
  },
  {
   "cell_type": "markdown",
   "id": "2a60cc22",
   "metadata": {},
   "source": [
    "### 클래스의 기본 구조"
   ]
  },
  {
   "cell_type": "code",
   "execution_count": null,
   "id": "84008a5c",
   "metadata": {},
   "outputs": [],
   "source": [
    "class 클래스이름:\n",
    "    def __init__(self, 속성1, 속성2):\n",
    "        self.속성1 = 속성1\n",
    "        self.속성2 = 속성2\n",
    "\n",
    "    def 메서드이름(self):\n",
    "        실행할 코드"
   ]
  },
  {
   "cell_type": "markdown",
   "id": "83dbb573",
   "metadata": {},
   "source": [
    "### 클래스 정의"
   ]
  },
  {
   "cell_type": "code",
   "execution_count": null,
   "id": "4e374fdd",
   "metadata": {},
   "outputs": [],
   "source": [
    "class FishBread:\n",
    "    def redbean_bread(self):\n",
    "        print(\"이 붕어빵은 \" + self.name + \" 입니다.\")\n",
    "\n",
    "    def sucream_bread(self):\n",
    "        print(\"이 붕어빵은 \" + self.name + \" 입니다.\")"
   ]
  },
  {
   "cell_type": "markdown",
   "id": "a72f8d06",
   "metadata": {},
   "source": [
    "### 클래스 호출"
   ]
  },
  {
   "cell_type": "code",
   "execution_count": null,
   "id": "a3912f1c",
   "metadata": {},
   "outputs": [],
   "source": [
    "a = FishBread() # 클래스 호출\n",
    "type(a) # 클래스\n",
    "\n",
    "a.redbean_bread() # 클래스 내 함수(메소드)에 접근\n",
    "a.name # 클래스 내 변수(속성)에 접근"
   ]
  },
  {
   "cell_type": "markdown",
   "id": "d5e0e5f4",
   "metadata": {},
   "source": [
    "### 클래스 예제"
   ]
  },
  {
   "cell_type": "code",
   "execution_count": null,
   "id": "6e5070eb",
   "metadata": {},
   "outputs": [],
   "source": [
    "class FishBread:\n",
    "    # 생성자 => 클래스가 호출될 때 가장 먼저 실행되는 메소드\n",
    "    def __init__(self, name, ingredient, price):\n",
    "        self.name = name\n",
    "        self.ingredient = ingredient\n",
    "        self.price = price\n",
    "\n",
    "    def bread(self):\n",
    "        print(\"이 붕어빵의 이름은 {}이고, {}이 들어가있습니다. 가격은 {} 입니다.\".format(self.name, self.ingredient, self.price))\n",
    "\n",
    "redbean_bread = FishBread(\"팥붕어빵\", \"팥\", 500)\n",
    "redbean_bread.bread()\n",
    "print(redbean_bread.name)\n",
    "print(redbean_bread.ingredient)\n",
    "print(str(redbean_bread.price))\n",
    "\n",
    "cream_bread = FishBread(\"슈크림 붕어빵\", \"크림\", 700)\n",
    "cream_bread.bread()\n",
    "\n",
    "pizza_bread = FishBread(\"피자 붕어빵\", \"피자\", 1000)\n",
    "pizza_bread.bread()"
   ]
  },
  {
   "cell_type": "markdown",
   "id": "25d05ad2",
   "metadata": {},
   "source": [
    "## (1) 클래스의 주요 요소\n",
    "\n",
    "### 생성자: `__init__`\n",
    "\n",
    "- 객체를 생성할 때 호출되는 초기화 메서드."
   ]
  },
  {
   "cell_type": "code",
   "execution_count": null,
   "id": "4e34b836",
   "metadata": {},
   "outputs": [],
   "source": [
    "class Dog:\n",
    "    def __init__(self, breed):\n",
    "        self.breed = breed\n",
    "\n",
    "dog = Dog(\"Golden Retriever\")\n",
    "print(dog.breed)  # Golden Retriever"
   ]
  },
  {
   "cell_type": "markdown",
   "id": "55afd0cd",
   "metadata": {},
   "source": [
    "### 메서드\n",
    "\n",
    "- 클래스 내부에서 정의된 함수로, 객체의 동작을 정의."
   ]
  },
  {
   "cell_type": "code",
   "execution_count": 1,
   "id": "bc9123d9",
   "metadata": {},
   "outputs": [
    {
     "name": "stdout",
     "output_type": "stream",
     "text": [
      "8\n"
     ]
    }
   ],
   "source": [
    "class Calculator:\n",
    "    def add(self, a, b):\n",
    "        return a + b\n",
    "\n",
    "calc = Calculator()\n",
    "print(calc.add(3, 5))  # 8"
   ]
  },
  {
   "cell_type": "code",
   "execution_count": 10,
   "id": "48c5f423",
   "metadata": {},
   "outputs": [
    {
     "name": "stdout",
     "output_type": "stream",
     "text": [
      "<__main__.Calculator object at 0x000002466631FD30>\n",
      "2\n",
      "4\n",
      "6\n",
      "8\n"
     ]
    }
   ],
   "source": [
    "class Calculator:\n",
    "    def __init__(self, a, b):\n",
    "        self.a = a\n",
    "        self.b = b\n",
    "    \n",
    "    def add(self):\n",
    "        return self.a + self.b\n",
    "\n",
    "    def multiple(self):\n",
    "        return self.a * self.b\n",
    "    \n",
    "    \n",
    "    calc = Calculator(2,4)\n",
    "    print(calc)\n",
    "    \n",
    "    print(calc.a)\n",
    "    print(calc.b)\n",
    "    print(calc.add())\n",
    "    print(calc.multiple())"
   ]
  },
  {
   "cell_type": "code",
   "execution_count": null,
   "id": "2cce5d02",
   "metadata": {},
   "outputs": [],
   "source": []
  }
 ],
 "metadata": {
  "kernelspec": {
   "display_name": "Python 3",
   "language": "python",
   "name": "python3"
  },
  "language_info": {
   "codemirror_mode": {
    "name": "ipython",
    "version": 3
   },
   "file_extension": ".py",
   "mimetype": "text/x-python",
   "name": "python",
   "nbconvert_exporter": "python",
   "pygments_lexer": "ipython3",
   "version": "3.10.2"
  }
 },
 "nbformat": 4,
 "nbformat_minor": 5
}
