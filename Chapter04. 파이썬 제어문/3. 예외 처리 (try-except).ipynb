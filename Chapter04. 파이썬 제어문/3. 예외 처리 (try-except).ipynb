{
 "cells": [
  {
   "cell_type": "markdown",
   "id": "cdfdf8e9",
   "metadata": {},
   "source": [
    "# 3. 예외 처리 (try-except)\n",
    "\n",
    "파이썬에서는 오류가 나면 프로그램이 종료됩니다.\n",
    "\n",
    "그렇기에 오류가 났을 때를 대비해서 예외 처리 작업을 해줘야 합니다.\n",
    "\n",
    "프로그램 실행 중 발생할 수 있는 오류(예외)를 처리하여 프로그램이 중단되지 않고 계속 실행되도록 하기 위함"
   ]
  },
  {
   "cell_type": "markdown",
   "id": "247392b1",
   "metadata": {},
   "source": [
    "## (1) `try-except` 기본 구조\n",
    "\n",
    "```python\n",
    "try:\n",
    "    실행할 코드\n",
    "except 예외종류:\n",
    "    예외 발생 시 실행할 코드\n",
    "```\n",
    "\n",
    "- **`try`**: 오류가 발생할 가능성이 있는 코드를 작성.\n",
    "- **`except`**: 오류 발생 시 실행할 코드를 작성."
   ]
  },
  {
   "cell_type": "markdown",
   "id": "c4d5f035",
   "metadata": {},
   "source": [
    "### 기본 예제"
   ]
  },
  {
   "cell_type": "code",
   "execution_count": null,
   "id": "1e77cd51",
   "metadata": {},
   "outputs": [],
   "source": [
    "\n",
    "try:\n",
    "    num = int(input(\"숫자를 입력하세요: \"))\n",
    "    print(f\"입력한 숫자는 {num}입니다.\")\n",
    "except ValueError:\n",
    "    print(\"올바른 숫자를 입력해주세요.\")\n"
   ]
  },
  {
   "cell_type": "markdown",
   "id": "1c7c91e3",
   "metadata": {},
   "source": [
    "### 다중 `except` 블록\n",
    "\n",
    "여러 예외를 처리하고자 할 때 `except` 블록을 여러 개 작성할 수 있습니다."
   ]
  },
  {
   "cell_type": "code",
   "execution_count": null,
   "id": "9dab5ce8",
   "metadata": {},
   "outputs": [],
   "source": [
    "\n",
    "try:\n",
    "    x = int(input(\"숫자를 입력하세요: \"))\n",
    "    result = 10 / x\n",
    "    print(f\"결과: {result}\")\n",
    "except ValueError:\n",
    "    print(\"숫자를 입력해야 합니다.\")\n",
    "except ZeroDivisionError:\n",
    "    print(\"0으로 나눌 수 없습니다.\")\n"
   ]
  },
  {
   "cell_type": "markdown",
   "id": "088fff0d",
   "metadata": {},
   "source": [
    "### 모든 예외 처리"
   ]
  },
  {
   "cell_type": "code",
   "execution_count": null,
   "id": "69d9d677",
   "metadata": {},
   "outputs": [],
   "source": [
    "\n",
    "try:\n",
    "    num = int(input(\"숫자를 입력하세요: \"))\n",
    "    print(10 / num)\n",
    "except:\n",
    "    print(\"예외가 발생했습니다.\")\n"
   ]
  },
  {
   "cell_type": "code",
   "execution_count": null,
   "id": "1623b2ff",
   "metadata": {},
   "outputs": [],
   "source": [
    "\n",
    "try:\n",
    "    num = int(input(\"숫자를 입력하세요: \"))\n",
    "    print(10 / num)\n",
    "except Exception as e:\n",
    "    print(\"예외가 발생했습니다.\", e)\n"
   ]
  },
  {
   "cell_type": "markdown",
   "id": "448af6cc",
   "metadata": {},
   "source": [
    "## (2) `else`와 `finally` 구문\n",
    "\n",
    "### 1. `else`\n",
    "\n",
    "- `try` 블록에서 오류가 발생하지 않으면 `else` 블록이 실행됩니다."
   ]
  },
  {
   "cell_type": "code",
   "execution_count": null,
   "id": "002ae9f9",
   "metadata": {},
   "outputs": [],
   "source": [
    "\n",
    "try:\n",
    "    num = int(input(\"숫자를 입력하세요: \"))\n",
    "except ValueError:\n",
    "    print(\"올바른 숫자를 입력하세요.\")\n",
    "else:\n",
    "    print(f\"입력한 숫자는 {num}입니다.\")\n"
   ]
  },
  {
   "cell_type": "markdown",
   "id": "bfb32629",
   "metadata": {},
   "source": [
    "### 2. `finally`\n",
    "\n",
    "- 오류 발생 여부와 상관없이 항상 실행됩니다. 파일 닫기, 리소스 정리 등에 사용됩니다."
   ]
  },
  {
   "cell_type": "code",
   "execution_count": null,
   "id": "65790671",
   "metadata": {},
   "outputs": [],
   "source": [
    "\n",
    "try:\n",
    "    file = open(\"example.txt\", \"r\")\n",
    "    content = file.read()\n",
    "    print(content)\n",
    "except FileNotFoundError:\n",
    "    print(\"파일을 찾을 수 없습니다.\")\n",
    "finally:\n",
    "    print(\"프로그램 종료.\")\n"
   ]
  },
  {
   "cell_type": "markdown",
   "id": "5366b68b",
   "metadata": {},
   "source": [
    "## (3) 자주 사용되는 함수 및 예외 종류\n",
    "\n",
    "### 주요 예외 종류\n",
    "\n",
    "- **`ValueError`**: 잘못된 값이 입력될 때 발생.\n",
    "- **`ZeroDivisionError`**: 0으로 나누려고 할 때 발생.\n",
    "- **`FileNotFoundError`**: 파일이 존재하지 않을 때 발생.\n",
    "- **`KeyError`**: 딕셔너리에서 존재하지 않는 키를 참조할 때 발생.\n",
    "- **`IndexError`**: 리스트의 잘못된 인덱스를 참조할 때 발생."
   ]
  },
  {
   "cell_type": "markdown",
   "id": "7351b2f6",
   "metadata": {},
   "source": [
    "## [실습]"
   ]
  },
  {
   "cell_type": "markdown",
   "id": "3a3627d3",
   "metadata": {},
   "source": [
    "### 문제 1: 숫자 입력 검사\n",
    "\n",
    "숫자를 입력받아, 입력된 값을 출력합니다. 숫자가 아닌 값을 입력하면 \"숫자가 아닙니다.\"를 출력하세요."
   ]
  },
  {
   "cell_type": "code",
   "execution_count": null,
   "id": "233eff9f",
   "metadata": {},
   "outputs": [],
   "source": []
  },
  {
   "cell_type": "markdown",
   "id": "9fb3a71f",
   "metadata": {},
   "source": [
    "### 문제 2: 0으로 나누기 방지\n",
    "\n",
    "두 숫자를 입력받아 나눗셈 결과를 출력합니다. 0으로 나누려고 하면 \"0으로 나눌 수 없습니다.\"를 출력하세요."
   ]
  },
  {
   "cell_type": "code",
   "execution_count": null,
   "id": "ff6470eb",
   "metadata": {},
   "outputs": [],
   "source": []
  },
  {
   "cell_type": "markdown",
   "id": "dbe73a9f",
   "metadata": {},
   "source": [
    "### 문제 3: 딕셔너리 키 확인\n",
    "\n",
    "딕셔너리에서 키를 입력받아 해당 값을 출력합니다. 키가 없으면 \"해당 키는 존재하지 않습니다.\"를 출력하세요."
   ]
  },
  {
   "cell_type": "code",
   "execution_count": null,
   "id": "c61de31f",
   "metadata": {},
   "outputs": [],
   "source": []
  },
  {
   "cell_type": "markdown",
   "id": "4167fd5b",
   "metadata": {},
   "source": [
    "### 문제 4: 파일 읽기\n",
    "\n",
    "파일 이름을 입력받아 내용을 출력합니다. 파일이 존재하지 않으면 \"파일을 찾을 수 없습니다.\"를 출력하세요."
   ]
  },
  {
   "cell_type": "code",
   "execution_count": null,
   "id": "5edc6292",
   "metadata": {},
   "outputs": [],
   "source": []
  },
  {
   "cell_type": "markdown",
   "id": "c7c46bbd",
   "metadata": {},
   "source": [
    "### 문제 5: 모든 예외 처리\n",
    "\n",
    "사용자로부터 숫자를 입력받아 100을 그 숫자로 나누는 프로그램을 작성하세요. 예외가 발생하면 \"예외가 발생했습니다.\"를 출력하세요."
   ]
  },
  {
   "cell_type": "code",
   "execution_count": null,
   "id": "f11a275d",
   "metadata": {},
   "outputs": [],
   "source": []
  }
 ],
 "metadata": {
  "language_info": {
   "name": "python"
  }
 },
 "nbformat": 4,
 "nbformat_minor": 5
}
