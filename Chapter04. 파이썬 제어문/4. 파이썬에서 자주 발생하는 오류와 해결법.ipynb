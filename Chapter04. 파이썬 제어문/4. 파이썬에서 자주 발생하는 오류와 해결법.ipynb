{
 "cells": [
  {
   "cell_type": "markdown",
   "id": "cb3b8065",
   "metadata": {},
   "source": [
    "# 4. 파이썬에서 자주 발생하는 오류와 해결법\n",
    "\n"
   ]
  },
  {
   "cell_type": "markdown",
   "id": "942a7855",
   "metadata": {},
   "source": [
    "### 4.1 구문 오류 (SyntaxError)\n",
    "\n",
    "- **원인**: 잘못된 구문을 사용했을 때 발생합니다. 예를 들어, 괄호를 닫지 않거나 콜론을 빼먹은 경우입니다.\n",
    "- **예시**:"
   ]
  },
  {
   "cell_type": "code",
   "execution_count": null,
   "id": "60307de9",
   "metadata": {},
   "outputs": [],
   "source": [
    "\n",
    "# SyntaxError 예시: 괄호가 닫히지 않음\n",
    "# print(\"Hello world\"  \n",
    "    "
   ]
  },
  {
   "cell_type": "markdown",
   "id": "09485de8",
   "metadata": {},
   "source": [
    "- **해결법**: 오류 메시지를 보고 해당 구문을 수정합니다. 위의 경우 괄호를 닫으면 됩니다."
   ]
  },
  {
   "cell_type": "markdown",
   "id": "923244ac",
   "metadata": {},
   "source": [
    "### 4.2 타입 오류 (TypeError)\n",
    "\n",
    "- **원인**: 잘못된 데이터 타입을 사용할 때 발생합니다. 예를 들어, 문자열과 숫자를 더하려고 할 때 발생합니다.\n",
    "- **예시**:"
   ]
  },
  {
   "cell_type": "code",
   "execution_count": null,
   "id": "8d7b3be5",
   "metadata": {},
   "outputs": [],
   "source": [
    "\n",
    "# TypeError 예시: 문자열과 숫자는 더할 수 없음\n",
    "# x = \"Hello\" + 5\n",
    "    "
   ]
  },
  {
   "cell_type": "markdown",
   "id": "890f59f9",
   "metadata": {},
   "source": [
    "- **해결법**: 데이터 타입을 변환하거나 올바른 타입의 데이터를 사용합니다."
   ]
  },
  {
   "cell_type": "code",
   "execution_count": null,
   "id": "9e3ba5d4",
   "metadata": {},
   "outputs": [],
   "source": [
    "\n",
    "# 해결: 숫자를 문자열로 변환\n",
    "x = \"Hello\" + str(5)\n",
    "print(x)\n"
   ]
  },
  {
   "cell_type": "markdown",
   "id": "589a281a",
   "metadata": {},
   "source": [
    "### 4.3 이름 오류 (NameError)\n",
    "\n",
    "- **원인**: 정의되지 않은 변수를 참조할 때 발생합니다.\n",
    "- **예시**:"
   ]
  },
  {
   "cell_type": "code",
   "execution_count": null,
   "id": "ea6e60e2",
   "metadata": {},
   "outputs": [],
   "source": [
    "\n",
    "# NameError 예시: y가 정의되지 않음\n",
    "# print(y)\n"
   ]
  },
  {
   "cell_type": "code",
   "execution_count": null,
   "id": "7ff711b3",
   "metadata": {},
   "outputs": [],
   "source": [
    "\n",
    "# 해결: 변수를 정의한 후 사용\n",
    "y = 10\n",
    "print(y)\n"
   ]
  },
  {
   "cell_type": "markdown",
   "id": "f4440978",
   "metadata": {},
   "source": [
    "### 4.4 인덱스 오류 (IndexError)\n",
    "\n",
    "- **원인**: 리스트나 튜플의 범위를 벗어난 인덱스에 접근하려고 할 때 발생합니다.\n",
    "- **예시**:"
   ]
  },
  {
   "cell_type": "code",
   "execution_count": null,
   "id": "61a88d4f",
   "metadata": {},
   "outputs": [],
   "source": [
    "\n",
    "# IndexError 예시: 리스트 범위를 벗어남\n",
    "numbers = [1, 2, 3]\n",
    "# print(numbers[5])\n"
   ]
  },
  {
   "cell_type": "code",
   "execution_count": null,
   "id": "ecc0f9cf",
   "metadata": {},
   "outputs": [],
   "source": [
    "\n",
    "# 해결: 범위 확인 후 접근\n",
    "if len(numbers) > 5:\n",
    "    print(numbers[5])\n",
    "else:\n",
    "    print(\"해당 인덱스는 존재하지 않습니다.\")\n"
   ]
  },
  {
   "cell_type": "markdown",
   "id": "511e317d",
   "metadata": {},
   "source": [
    "### 4.5 예외 처리 (Exception Handling)"
   ]
  },
  {
   "cell_type": "code",
   "execution_count": null,
   "id": "a65db835",
   "metadata": {},
   "outputs": [],
   "source": [
    "# ZeroDivisionError 예외 처리\n",
    "try:\n",
    "    result = 10 / 0\n",
    "except ZeroDivisionError:\n",
    "    print(\"0으로 나눌 수 없습니다!\")"
   ]
  },
  {
   "cell_type": "markdown",
   "id": "21d7a81a",
   "metadata": {},
   "source": [
    "### 4.6 값 오류 (ValueError)\n",
    "\n",
    "- **원인**: 잘못된 값이 입력될 때 발생.\n",
    "- **예시**:"
   ]
  },
  {
   "cell_type": "code",
   "execution_count": null,
   "id": "64245be7",
   "metadata": {},
   "outputs": [],
   "source": [
    "# ValueError 예시: 'Hello'는 숫자로 변환할 수 없음\n",
    "# num = int(\"Hello\")"
   ]
  },
  {
   "cell_type": "code",
   "execution_count": null,
   "id": "6ebcfba2",
   "metadata": {},
   "outputs": [],
   "source": [
    "# 해결: 숫자 형식인지 확인 후 변환\n",
    "string = \"123\"\n",
    "if string.isdigit():\n",
    "    num = int(string)\n",
    "    print(num)\n",
    "else:\n",
    "    print(\"숫자가 아닙니다!\")"
   ]
  },
  {
   "cell_type": "markdown",
   "id": "ecf820f0",
   "metadata": {},
   "source": [
    "### 4.7 속성 오류 (AttributeError)\n",
    "\n",
    "- **원인**: 객체에 존재하지 않는 속성이나 메서드를 호출하려고 할 때 발생.\n",
    "- **예시**:"
   ]
  },
  {
   "cell_type": "code",
   "execution_count": null,
   "id": "1c4d7699",
   "metadata": {},
   "outputs": [],
   "source": [
    "# AttributeError 예시: 존재하지 않는 속성에 접근\n",
    "class MyClass:\n",
    "    def __init__(self):\n",
    "        self.value = 10\n",
    "\n",
    "obj = MyClass()\n",
    "# print(obj.non_existent)"
   ]
  },
  {
   "cell_type": "code",
   "execution_count": null,
   "id": "d3182a34",
   "metadata": {},
   "outputs": [],
   "source": [
    "# 해결: 속성 확인 후 접근\n",
    "if hasattr(obj, 'non_existent'):\n",
    "    print(obj.non_existent)\n",
    "else:\n",
    "    print(\"해당 속성은 존재하지 않습니다.\")"
   ]
  },
  {
   "cell_type": "markdown",
   "id": "b1b351ba",
   "metadata": {},
   "source": [
    "### 4.8 키 오류 (KeyError)\n",
    "\n",
    "- **원인**: 딕셔너리에서 존재하지 않는 키에 접근하려고 할 때 발생.\n",
    "- **예시**:"
   ]
  },
  {
   "cell_type": "code",
   "execution_count": null,
   "id": "e8f874dc",
   "metadata": {},
   "outputs": [],
   "source": [
    "my_dict = {\"name\": \"Alice\", \"age\": 25}\n",
    "# print(my_dict[\"address\"])  # KeyError 예시"
   ]
  },
  {
   "cell_type": "code",
   "execution_count": null,
   "id": "4ab6d6e3",
   "metadata": {},
   "outputs": [],
   "source": [
    "# 해결 1: 키 존재 여부 확인\n",
    "if \"address\" in my_dict:\n",
    "    print(my_dict[\"address\"])\n",
    "else:\n",
    "    print(\"해당 키는 존재하지 않습니다.\")\n",
    "\n",
    "# 해결 2: .get() 사용\n",
    "print(my_dict.get(\"address\", \"주소 정보가 없습니다.\"))"
   ]
  },
  {
   "cell_type": "markdown",
   "id": "67e55803",
   "metadata": {},
   "source": [
    "### 4.9 모듈 오류 (ModuleNotFoundError)\n",
    "\n",
    "- **원인**: 사용하려는 모듈이 설치되지 않았거나 잘못된 경로로 가져올 때 발생합니다.\n",
    "- **예시**:"
   ]
  },
  {
   "cell_type": "code",
   "execution_count": null,
   "id": "6bbddcc2",
   "metadata": {},
   "outputs": [],
   "source": [
    "\n",
    "# ModuleNotFoundError 예시: 존재하지 않는 모듈을 가져옴\n",
    "# import non_existent_module"
   ]
  },
  {
   "cell_type": "code",
   "execution_count": null,
   "id": "1f3e611f",
   "metadata": {},
   "outputs": [],
   "source": [
    "# 해결: 필요한 모듈이 설치되었는지 확인\n",
    "try:\n",
    "    import pandas\n",
    "except ModuleNotFoundError:\n",
    "    print(\"필요한 모듈이 설치되지 않았습니다.\")"
   ]
  }
 ],
 "metadata": {
  "kernelspec": {
   "display_name": "env_all",
   "language": "python",
   "name": "python3"
  },
  "language_info": {
   "name": "python",
   "version": "3.12.7"
  }
 },
 "nbformat": 4,
 "nbformat_minor": 5
}
