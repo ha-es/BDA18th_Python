{
 "cells": [
  {
   "cell_type": "markdown",
   "metadata": {},
   "source": [
    "## [실습]\n",
    "\n",
    "### **문제 1: 기본 조건문**\n",
    "\n",
    "- 사용자로부터 숫자를 입력받아, 그 숫자가 양수, 음수, 또는 0인지 출력하세요."
   ]
  },
  {
   "cell_type": "code",
   "execution_count": 1,
   "metadata": {},
   "outputs": [
    {
     "name": "stdout",
     "output_type": "stream",
     "text": [
      "양수입니다.\n"
     ]
    }
   ],
   "source": [
    "user = int(input(\"숫자를 입력하세요\"))\n",
    "\n",
    "\n",
    "if user>0:\n",
    "    print(\"양수입니다.\")\n",
    "elif user<0:\n",
    "    print(\"음수입니다.\")\n",
    "else:\n",
    "    print(\"0입니다.\")\n"
   ]
  },
  {
   "cell_type": "markdown",
   "metadata": {},
   "source": [
    "### **문제 2: 짝수와 홀수**\n",
    "\n",
    "- 사용자로부터 숫자를 입력받아, 짝수인지 홀수인지 판단하세요."
   ]
  },
  {
   "cell_type": "code",
   "execution_count": 20,
   "metadata": {},
   "outputs": [
    {
     "name": "stdout",
     "output_type": "stream",
     "text": [
      "짝수입니다.\n"
     ]
    }
   ],
   "source": [
    "user = int(input(\"숫자를 입력하세요\"))\n",
    "\n",
    "if user % 2 == 0:\n",
    "    print(\"짝수입니다.\")\n",
    "else:\n",
    "    print(\"홀수입니다.\")"
   ]
  },
  {
   "cell_type": "markdown",
   "metadata": {},
   "source": [
    "### **문제 3: 비밀번호 유효성 검사**\n",
    "\n",
    "- 사용자로부터 비밀번호를 입력받아, 비밀번호가 8자 이상인지 검사하세요."
   ]
  },
  {
   "cell_type": "code",
   "execution_count": null,
   "metadata": {},
   "outputs": [
    {
     "name": "stdout",
     "output_type": "stream",
     "text": [
      "8자리 이상입니다.\n"
     ]
    }
   ],
   "source": [
    "pwd = input(\"비밀번호를 8자리 이상 입력하세요.\")\n",
    "\n",
    "if len(pwd) >=8:\n",
    "    print(\"입력하신 비밀번호는 {pwd}, 8자리 이상입니다.\")\n",
    "else:\n",
    "    print(\"8자리이상 입력하세요.\")"
   ]
  },
  {
   "cell_type": "markdown",
   "metadata": {},
   "source": [
    "### **문제 4: 학점 계산**\n",
    "\n",
    "점수를 입력받아 아래 기준에 따라 학점을 출력하세요:\n",
    "\n",
    "- 90점 이상: A\n",
    "- 80점 이상: B\n",
    "- 70점 이상: C\n",
    "- 나머지: F"
   ]
  },
  {
   "cell_type": "code",
   "execution_count": 21,
   "metadata": {},
   "outputs": [
    {
     "name": "stdout",
     "output_type": "stream",
     "text": [
      "B등급\n"
     ]
    }
   ],
   "source": [
    "score = int(input(\"점수를 입력하세요.\"))\n",
    "\n",
    "if score>=90:\n",
    "    print(\"A등급\")\n",
    "elif score>=80:\n",
    "    print(\"B등급\")\n",
    "elif score>=70:\n",
    "    print(\"C등급\")\n",
    "else:\n",
    "    print(\"F등급\")"
   ]
  },
  {
   "cell_type": "markdown",
   "metadata": {},
   "source": [
    "### **문제 5: 포함 여부 검사**\n",
    "\n",
    "리스트에 특정 값이 있는지 검사하는 코드를 완성하세요."
   ]
  },
  {
   "cell_type": "code",
   "execution_count": 30,
   "metadata": {},
   "outputs": [
    {
     "name": "stdout",
     "output_type": "stream",
     "text": [
      "항목이 존재합니다.\n"
     ]
    }
   ],
   "source": [
    "ls = [123,456,789,0]\n",
    "\n",
    "ls_user = int(input(\"찾고 싶은 항목을 입력하세요.\"))\n",
    "\n",
    "if ls_user in ls:\n",
    "    print(\"항목이 존재합니다.\")\n",
    "else:\n",
    "    print(\"항목이 존재하지 않습니다.\")"
   ]
  },
  {
   "cell_type": "markdown",
   "metadata": {},
   "source": [
    "### **문제 6: 나이대 판단**\n",
    "\n",
    "- 사용자로부터 나이를 입력받아, 나이대(어린이, 성인, 시니어)를 출력하세요."
   ]
  },
  {
   "cell_type": "code",
   "execution_count": 7,
   "metadata": {},
   "outputs": [
    {
     "name": "stdout",
     "output_type": "stream",
     "text": [
      "시니어 입니다.\n"
     ]
    }
   ],
   "source": [
    "age = int(input(\"나이를 입력하세요,\"))\n",
    "\n",
    "if age>=20 and age<=70:\n",
    "    print(\"성인입니다.\")\n",
    "elif age<=19:\n",
    "    print(\"어린이 입니다.\")\n",
    "else:\n",
    "    print(\"시니어 입니다.\")"
   ]
  },
  {
   "cell_type": "markdown",
   "metadata": {},
   "source": [
    "### **문제 7: 온도에 따른 행동**\n",
    "\n",
    "온도를 입력받아, 다음 규칙에 따라 행동을 출력하세요:\n",
    "\n",
    "- 30도 이상: \"에어컨을 켭니다.\"\n",
    "- 10도 이상 30도 미만: \"적당한 날씨입니다.\"\n",
    "- 10도 미만: \"난방을 켭니다.\""
   ]
  },
  {
   "cell_type": "code",
   "execution_count": 8,
   "metadata": {},
   "outputs": [
    {
     "name": "stdout",
     "output_type": "stream",
     "text": [
      "적당한 날씨입니다.\n"
     ]
    }
   ],
   "source": [
    "temp = float(input(\"온도를 입력하세요.\"))\n",
    "\n",
    "if temp >=30 :\n",
    "    print(\"에어컨을 켭니다.\")\n",
    "elif temp>=10 and temp<30:\n",
    "    print(\"적당한 날씨입니다.\")\n",
    "else:\n",
    "    print(\"난방을 켭니다.\")\n"
   ]
  },
  {
   "cell_type": "markdown",
   "metadata": {},
   "source": [
    "### **문제 8: 중첩 조건문**\n",
    "\n",
    "점수와 출석률을 입력받아 합격 여부를 출력하세요.\n",
    "\n",
    "- 점수가 60점 이상이고 출석률이 80% 이상이면 \"합격\"\n",
    "- 그렇지 않으면 \"불합격\""
   ]
  },
  {
   "cell_type": "code",
   "execution_count": 9,
   "metadata": {},
   "outputs": [
    {
     "name": "stdout",
     "output_type": "stream",
     "text": [
      "불합격\n"
     ]
    }
   ],
   "source": [
    "score = int(input(\"점수를 입력하세요.\"))\n",
    "n = int(input(\"출석률을 입력하세요.\"))\n",
    "\n",
    "if score>=60 and n>=80:\n",
    "    print(\"합격\")\n",
    "else:\n",
    "    print(\"불합격\")"
   ]
  },
  {
   "cell_type": "markdown",
   "metadata": {},
   "source": [
    "### **문제 9: 로그인 시스템**\n",
    "\n",
    "아이디와 비밀번호를 입력받아 인증 여부를 출력하세요.\n",
    "\n",
    "- 아이디: `admin`\n",
    "- 비밀번호: `1234`"
   ]
  },
  {
   "cell_type": "code",
   "execution_count": 31,
   "metadata": {},
   "outputs": [
    {
     "name": "stdout",
     "output_type": "stream",
     "text": [
      "login succes\n"
     ]
    }
   ],
   "source": [
    "user_id = input(\"id를 입력하세요.\")\n",
    "user_pwd = int(input(\"비밀번호를 입력하세요.\"))\n",
    "\n",
    "\n",
    "if user_id == 'admin' and user_pwd==1234:\n",
    "    print(\"login succes\")\n",
    "else:\n",
    "    print(\"login fail\")"
   ]
  },
  {
   "cell_type": "markdown",
   "metadata": {},
   "source": [
    "### **문제 10: 3의 배수 판단**\n",
    "\n",
    "- 숫자를 입력받아, 3의 배수인지 확인하고, 맞다면 \"3의 배수입니다.\"를 출력하세요."
   ]
  },
  {
   "cell_type": "code",
   "execution_count": null,
   "metadata": {},
   "outputs": [
    {
     "name": "stdout",
     "output_type": "stream",
     "text": [
      "3의 배수가 아닙니다.\n"
     ]
    }
   ],
   "source": [
    "user_3 = int(input(\"숫자를 입력하세요.\"))\n",
    "\n",
    "if user_3 % 3 ==0:\n",
    "    print(\"3의 배수 입니다.\")\n",
    "else:\n",
    "    print(\"3의 배수가 아닙니다.\")"
   ]
  },
  {
   "cell_type": "code",
   "execution_count": null,
   "metadata": {},
   "outputs": [],
   "source": []
  }
 ],
 "metadata": {
  "kernelspec": {
   "display_name": "Python 3",
   "language": "python",
   "name": "python3"
  },
  "language_info": {
   "codemirror_mode": {
    "name": "ipython",
    "version": 3
   },
   "file_extension": ".py",
   "mimetype": "text/x-python",
   "name": "python",
   "nbconvert_exporter": "python",
   "pygments_lexer": "ipython3",
   "version": "3.10.2"
  }
 },
 "nbformat": 4,
 "nbformat_minor": 2
}
